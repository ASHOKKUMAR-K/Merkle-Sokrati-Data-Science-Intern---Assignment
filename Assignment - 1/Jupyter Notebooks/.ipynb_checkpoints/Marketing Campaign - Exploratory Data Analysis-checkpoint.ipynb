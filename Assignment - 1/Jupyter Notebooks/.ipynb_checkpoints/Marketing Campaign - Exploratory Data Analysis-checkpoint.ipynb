{
 "cells": [
  {
   "cell_type": "markdown",
   "metadata": {},
   "source": [
    "# About the Data\n",
    "\n",
    "\n",
    "Merkle Sokrati is a highly caffeinated playground where brilliant minds come together to bring bold, award-winning ideas to life. To help with this, we’re looking for an outstanding Data Analyst that is an original thinker and technical guru. Sounds like you, then read on!\n",
    "First we want to gather more insight on your thought process, so here is the task: \n",
    "\n",
    "### Task Background:\n",
    "\n",
    "- Please find the attached data file of a few marketing campaigns containing data from Oct’19 to July’20. This data is from Google and Facebook campaigns which shows the performance of different Age-groups for different dimensions.\n",
    "\n",
    "- All the key fields like: Platform, Type, Medium, Sub Channel, Audience, Creative have already been mapped to the data.\n",
    "    - **Platform**: Marketing platforms on which campaigns are running majorly: Google Ads and Facebook Ads \n",
    "    - **Type**: Type of campaign, In this data only Gogole search and Facebook Conversion campaigns have boon considered\n",
    "    - **Medium**: The way we are connecting to people in our Marketing campaigns either via some Keywords or Creatives.\n",
    "    - **Sub Channel**: Sub channel is under Google Search which type of keywords have been targeted ot in Facebook which on subchannel we are targeting\n",
    "    - **Audience**: Multiple Type of audiences are getting targeted in different campaigns an dthose have been encrypted as Audience 1,2,3\n",
    "    - **Creative**: This if for facebook what type of Image/Video/Carousel we are using in our Ads.\n",
    "\n",
    "### Required Task Output:\n",
    "\n",
    "- You have to carry out EDA and build ML model to evaluate the insights automatically. You can use any language, model and technique of your choice \n",
    "- Prepare a summary of your Analysis and put that into a professional looking deck"
   ]
  },
  {
   "cell_type": "code",
   "execution_count": 18,
   "metadata": {},
   "outputs": [],
   "source": [
    "# Loading required libraries\n",
    "import pandas as pd\n",
    "import numpy as np\n",
    "import matplotlib.pyplot as plt\n",
    "import seaborn as sb\n",
    "\n",
    "sb.set()"
   ]
  },
  {
   "cell_type": "code",
   "execution_count": 19,
   "metadata": {},
   "outputs": [
    {
     "data": {
      "text/html": [
       "<div>\n",
       "<style scoped>\n",
       "    .dataframe tbody tr th:only-of-type {\n",
       "        vertical-align: middle;\n",
       "    }\n",
       "\n",
       "    .dataframe tbody tr th {\n",
       "        vertical-align: top;\n",
       "    }\n",
       "\n",
       "    .dataframe thead th {\n",
       "        text-align: right;\n",
       "    }\n",
       "</style>\n",
       "<table border=\"1\" class=\"dataframe\">\n",
       "  <thead>\n",
       "    <tr style=\"text-align: right;\">\n",
       "      <th></th>\n",
       "      <th>Date</th>\n",
       "      <th>product</th>\n",
       "      <th>phase</th>\n",
       "      <th>campaign_platform</th>\n",
       "      <th>campaign_type</th>\n",
       "      <th>communication_medium</th>\n",
       "      <th>subchannel</th>\n",
       "      <th>audience_type</th>\n",
       "      <th>creative_type</th>\n",
       "      <th>creative_name</th>\n",
       "      <th>device</th>\n",
       "      <th>age</th>\n",
       "      <th>spends</th>\n",
       "      <th>impressions</th>\n",
       "      <th>clicks</th>\n",
       "      <th>link_clicks</th>\n",
       "    </tr>\n",
       "  </thead>\n",
       "  <tbody>\n",
       "    <tr>\n",
       "      <th>0</th>\n",
       "      <td>2019-10-16</td>\n",
       "      <td>Product 1</td>\n",
       "      <td>Performance</td>\n",
       "      <td>Google Ads</td>\n",
       "      <td>Search</td>\n",
       "      <td>Search Keywords</td>\n",
       "      <td>Brand</td>\n",
       "      <td>'-</td>\n",
       "      <td>'-</td>\n",
       "      <td>'-</td>\n",
       "      <td>Desktop</td>\n",
       "      <td>18-24</td>\n",
       "      <td>0.00</td>\n",
       "      <td>2</td>\n",
       "      <td>0</td>\n",
       "      <td>0.0</td>\n",
       "    </tr>\n",
       "    <tr>\n",
       "      <th>1</th>\n",
       "      <td>2019-10-16</td>\n",
       "      <td>Product 1</td>\n",
       "      <td>Performance</td>\n",
       "      <td>Google Ads</td>\n",
       "      <td>Search</td>\n",
       "      <td>Search Keywords</td>\n",
       "      <td>Brand</td>\n",
       "      <td>'-</td>\n",
       "      <td>'-</td>\n",
       "      <td>'-</td>\n",
       "      <td>Desktop</td>\n",
       "      <td>25-34</td>\n",
       "      <td>0.00</td>\n",
       "      <td>5</td>\n",
       "      <td>0</td>\n",
       "      <td>0.0</td>\n",
       "    </tr>\n",
       "    <tr>\n",
       "      <th>2</th>\n",
       "      <td>2019-10-16</td>\n",
       "      <td>Product 1</td>\n",
       "      <td>Performance</td>\n",
       "      <td>Google Ads</td>\n",
       "      <td>Search</td>\n",
       "      <td>Search Keywords</td>\n",
       "      <td>Brand</td>\n",
       "      <td>'-</td>\n",
       "      <td>'-</td>\n",
       "      <td>'-</td>\n",
       "      <td>Desktop</td>\n",
       "      <td>35-44</td>\n",
       "      <td>0.00</td>\n",
       "      <td>1</td>\n",
       "      <td>0</td>\n",
       "      <td>0.0</td>\n",
       "    </tr>\n",
       "    <tr>\n",
       "      <th>3</th>\n",
       "      <td>2019-10-16</td>\n",
       "      <td>Product 1</td>\n",
       "      <td>Performance</td>\n",
       "      <td>Google Ads</td>\n",
       "      <td>Search</td>\n",
       "      <td>Search Keywords</td>\n",
       "      <td>Brand</td>\n",
       "      <td>'-</td>\n",
       "      <td>'-</td>\n",
       "      <td>'-</td>\n",
       "      <td>Desktop</td>\n",
       "      <td>Undetermined</td>\n",
       "      <td>14.63</td>\n",
       "      <td>5</td>\n",
       "      <td>3</td>\n",
       "      <td>0.0</td>\n",
       "    </tr>\n",
       "    <tr>\n",
       "      <th>4</th>\n",
       "      <td>2019-10-18</td>\n",
       "      <td>Product 1</td>\n",
       "      <td>Performance</td>\n",
       "      <td>Google Ads</td>\n",
       "      <td>Search</td>\n",
       "      <td>Search Keywords</td>\n",
       "      <td>Brand</td>\n",
       "      <td>'-</td>\n",
       "      <td>'-</td>\n",
       "      <td>'-</td>\n",
       "      <td>Desktop</td>\n",
       "      <td>18-24</td>\n",
       "      <td>53.31</td>\n",
       "      <td>10</td>\n",
       "      <td>2</td>\n",
       "      <td>0.0</td>\n",
       "    </tr>\n",
       "  </tbody>\n",
       "</table>\n",
       "</div>"
      ],
      "text/plain": [
       "        Date    product        phase campaign_platform campaign_type  \\\n",
       "0 2019-10-16  Product 1  Performance        Google Ads        Search   \n",
       "1 2019-10-16  Product 1  Performance        Google Ads        Search   \n",
       "2 2019-10-16  Product 1  Performance        Google Ads        Search   \n",
       "3 2019-10-16  Product 1  Performance        Google Ads        Search   \n",
       "4 2019-10-18  Product 1  Performance        Google Ads        Search   \n",
       "\n",
       "  communication_medium subchannel audience_type creative_type creative_name  \\\n",
       "0      Search Keywords      Brand            '-            '-            '-   \n",
       "1      Search Keywords      Brand            '-            '-            '-   \n",
       "2      Search Keywords      Brand            '-            '-            '-   \n",
       "3      Search Keywords      Brand            '-            '-            '-   \n",
       "4      Search Keywords      Brand            '-            '-            '-   \n",
       "\n",
       "    device           age  spends  impressions  clicks  link_clicks  \n",
       "0  Desktop         18-24    0.00            2       0          0.0  \n",
       "1  Desktop         25-34    0.00            5       0          0.0  \n",
       "2  Desktop         35-44    0.00            1       0          0.0  \n",
       "3  Desktop  Undetermined   14.63            5       3          0.0  \n",
       "4  Desktop         18-24   53.31           10       2          0.0  "
      ]
     },
     "execution_count": 19,
     "metadata": {},
     "output_type": "execute_result"
    }
   ],
   "source": [
    "# Loading Data\n",
    "marketing_campaigns = pd.read_excel(\"../data/Data Analyst Assignment.xlsx\", sheet_name = 0)\n",
    "# Show first 5 rows of data\n",
    "marketing_campaigns.head()"
   ]
  },
  {
   "cell_type": "code",
   "execution_count": 33,
   "metadata": {},
   "outputs": [
    {
     "data": {
      "text/plain": [
       "16834"
      ]
     },
     "execution_count": 33,
     "metadata": {},
     "output_type": "execute_result"
    }
   ],
   "source": [
    "# Number of Records\n",
    "marketing_campaigns.shape[0]"
   ]
  },
  {
   "cell_type": "code",
   "execution_count": 20,
   "metadata": {},
   "outputs": [
    {
     "data": {
      "text/plain": [
       "Date                    datetime64[ns]\n",
       "product                         object\n",
       "phase                           object\n",
       "campaign_platform               object\n",
       "campaign_type                   object\n",
       "communication_medium            object\n",
       "subchannel                      object\n",
       "audience_type                   object\n",
       "creative_type                   object\n",
       "creative_name                   object\n",
       "device                          object\n",
       "age                             object\n",
       "spends                         float64\n",
       "impressions                      int64\n",
       "clicks                           int64\n",
       "link_clicks                    float64\n",
       "dtype: object"
      ]
     },
     "execution_count": 20,
     "metadata": {},
     "output_type": "execute_result"
    }
   ],
   "source": [
    "# Datatypes of columns\n",
    "marketing_campaigns.dtypes"
   ]
  },
  {
   "cell_type": "code",
   "execution_count": 21,
   "metadata": {},
   "outputs": [
    {
     "data": {
      "text/plain": [
       "Date                      0\n",
       "product                   0\n",
       "phase                     0\n",
       "campaign_platform         0\n",
       "campaign_type             0\n",
       "communication_medium      0\n",
       "subchannel                0\n",
       "audience_type             0\n",
       "creative_type             0\n",
       "creative_name             0\n",
       "device                    0\n",
       "age                       0\n",
       "spends                    0\n",
       "impressions               0\n",
       "clicks                    0\n",
       "link_clicks             546\n",
       "dtype: int64"
      ]
     },
     "execution_count": 21,
     "metadata": {},
     "output_type": "execute_result"
    }
   ],
   "source": [
    "# Checking for null values\n",
    "marketing_campaigns.isnull().sum()"
   ]
  },
  {
   "cell_type": "markdown",
   "metadata": {},
   "source": [
    "## Exploratory Data Analysis on each column"
   ]
  },
  {
   "cell_type": "markdown",
   "metadata": {},
   "source": [
    "#### 1. Date"
   ]
  },
  {
   "cell_type": "code",
   "execution_count": 22,
   "metadata": {},
   "outputs": [],
   "source": [
    "# Sorting the data based on Date column\n",
    "marketing_campaigns.sort_values(by = \"Date\", inplace = True)"
   ]
  },
  {
   "cell_type": "code",
   "execution_count": 23,
   "metadata": {},
   "outputs": [
    {
     "data": {
      "text/plain": [
       "datetime.date(2019, 10, 16)"
      ]
     },
     "execution_count": 23,
     "metadata": {},
     "output_type": "execute_result"
    }
   ],
   "source": [
    "# Start date\n",
    "marketing_campaigns.iloc[0, 0].date()"
   ]
  },
  {
   "cell_type": "code",
   "execution_count": 24,
   "metadata": {},
   "outputs": [
    {
     "data": {
      "text/plain": [
       "datetime.date(2020, 7, 7)"
      ]
     },
     "execution_count": 24,
     "metadata": {},
     "output_type": "execute_result"
    }
   ],
   "source": [
    "# End date\n",
    "marketing_campaigns.iloc[-1, 0].date()"
   ]
  },
  {
   "cell_type": "code",
   "execution_count": 25,
   "metadata": {},
   "outputs": [],
   "source": [
    "marketing_campaigns.reset_index(inplace = True, drop = True)"
   ]
  },
  {
   "cell_type": "code",
   "execution_count": 29,
   "metadata": {
    "scrolled": false
   },
   "outputs": [
    {
     "data": {
      "text/plain": [
       "257"
      ]
     },
     "execution_count": 29,
     "metadata": {},
     "output_type": "execute_result"
    }
   ],
   "source": [
    "len(marketing_campaigns.iloc[:, 0].unique())"
   ]
  },
  {
   "cell_type": "code",
   "execution_count": 31,
   "metadata": {},
   "outputs": [
    {
     "name": "stdout",
     "output_type": "stream",
     "text": [
      "2020-01-02    169\n",
      "2020-01-08    164\n",
      "2020-01-10    162\n",
      "2020-01-09    162\n",
      "2020-01-13    162\n",
      "             ... \n",
      "2020-01-25      7\n",
      "2020-01-28      7\n",
      "2020-01-26      7\n",
      "2020-01-27      7\n",
      "2019-10-16      4\n",
      "Name: Date, Length: 257, dtype: int64\n"
     ]
    }
   ],
   "source": [
    "print(marketing_campaigns.iloc[:, 0].value_counts())"
   ]
  },
  {
   "cell_type": "markdown",
   "metadata": {},
   "source": [
    "#### 2. Product"
   ]
  },
  {
   "cell_type": "code",
   "execution_count": 32,
   "metadata": {},
   "outputs": [
    {
     "data": {
      "text/plain": [
       "0        Product 1\n",
       "1        Product 1\n",
       "2        Product 1\n",
       "3        Product 1\n",
       "4        Product 1\n",
       "           ...    \n",
       "16829    Product 1\n",
       "16830    Product 1\n",
       "16831    Product 1\n",
       "16832    Product 1\n",
       "16833    Product 1\n",
       "Name: product, Length: 16834, dtype: object"
      ]
     },
     "execution_count": 32,
     "metadata": {},
     "output_type": "execute_result"
    }
   ],
   "source": [
    "marketing_campaigns.iloc[:, 1]"
   ]
  },
  {
   "cell_type": "code",
   "execution_count": 35,
   "metadata": {},
   "outputs": [
    {
     "data": {
      "text/plain": [
       "array(['Product 1'], dtype=object)"
      ]
     },
     "execution_count": 35,
     "metadata": {},
     "output_type": "execute_result"
    }
   ],
   "source": [
    "marketing_campaigns.iloc[:, 1].unique()"
   ]
  },
  {
   "cell_type": "code",
   "execution_count": 37,
   "metadata": {},
   "outputs": [
    {
     "data": {
      "text/plain": [
       "Product 1    16834\n",
       "Name: product, dtype: int64"
      ]
     },
     "execution_count": 37,
     "metadata": {},
     "output_type": "execute_result"
    }
   ],
   "source": [
    "marketing_campaigns.iloc[:, 1].value_counts()"
   ]
  },
  {
   "cell_type": "code",
   "execution_count": 39,
   "metadata": {},
   "outputs": [],
   "source": [
    "marketing_campaigns.drop(\"product\", axis = 1, inplace = True)"
   ]
  },
  {
   "cell_type": "code",
   "execution_count": 40,
   "metadata": {},
   "outputs": [
    {
     "data": {
      "text/html": [
       "<div>\n",
       "<style scoped>\n",
       "    .dataframe tbody tr th:only-of-type {\n",
       "        vertical-align: middle;\n",
       "    }\n",
       "\n",
       "    .dataframe tbody tr th {\n",
       "        vertical-align: top;\n",
       "    }\n",
       "\n",
       "    .dataframe thead th {\n",
       "        text-align: right;\n",
       "    }\n",
       "</style>\n",
       "<table border=\"1\" class=\"dataframe\">\n",
       "  <thead>\n",
       "    <tr style=\"text-align: right;\">\n",
       "      <th></th>\n",
       "      <th>Date</th>\n",
       "      <th>phase</th>\n",
       "      <th>campaign_platform</th>\n",
       "      <th>campaign_type</th>\n",
       "      <th>communication_medium</th>\n",
       "      <th>subchannel</th>\n",
       "      <th>audience_type</th>\n",
       "      <th>creative_type</th>\n",
       "      <th>creative_name</th>\n",
       "      <th>device</th>\n",
       "      <th>age</th>\n",
       "      <th>spends</th>\n",
       "      <th>impressions</th>\n",
       "      <th>clicks</th>\n",
       "      <th>link_clicks</th>\n",
       "    </tr>\n",
       "  </thead>\n",
       "  <tbody>\n",
       "    <tr>\n",
       "      <th>0</th>\n",
       "      <td>2019-10-16</td>\n",
       "      <td>Performance</td>\n",
       "      <td>Google Ads</td>\n",
       "      <td>Search</td>\n",
       "      <td>Search Keywords</td>\n",
       "      <td>Brand</td>\n",
       "      <td>'-</td>\n",
       "      <td>'-</td>\n",
       "      <td>'-</td>\n",
       "      <td>Desktop</td>\n",
       "      <td>18-24</td>\n",
       "      <td>0.00</td>\n",
       "      <td>2</td>\n",
       "      <td>0</td>\n",
       "      <td>0.0</td>\n",
       "    </tr>\n",
       "    <tr>\n",
       "      <th>1</th>\n",
       "      <td>2019-10-16</td>\n",
       "      <td>Performance</td>\n",
       "      <td>Google Ads</td>\n",
       "      <td>Search</td>\n",
       "      <td>Search Keywords</td>\n",
       "      <td>Brand</td>\n",
       "      <td>'-</td>\n",
       "      <td>'-</td>\n",
       "      <td>'-</td>\n",
       "      <td>Desktop</td>\n",
       "      <td>25-34</td>\n",
       "      <td>0.00</td>\n",
       "      <td>5</td>\n",
       "      <td>0</td>\n",
       "      <td>0.0</td>\n",
       "    </tr>\n",
       "    <tr>\n",
       "      <th>2</th>\n",
       "      <td>2019-10-16</td>\n",
       "      <td>Performance</td>\n",
       "      <td>Google Ads</td>\n",
       "      <td>Search</td>\n",
       "      <td>Search Keywords</td>\n",
       "      <td>Brand</td>\n",
       "      <td>'-</td>\n",
       "      <td>'-</td>\n",
       "      <td>'-</td>\n",
       "      <td>Desktop</td>\n",
       "      <td>35-44</td>\n",
       "      <td>0.00</td>\n",
       "      <td>1</td>\n",
       "      <td>0</td>\n",
       "      <td>0.0</td>\n",
       "    </tr>\n",
       "    <tr>\n",
       "      <th>3</th>\n",
       "      <td>2019-10-16</td>\n",
       "      <td>Performance</td>\n",
       "      <td>Google Ads</td>\n",
       "      <td>Search</td>\n",
       "      <td>Search Keywords</td>\n",
       "      <td>Brand</td>\n",
       "      <td>'-</td>\n",
       "      <td>'-</td>\n",
       "      <td>'-</td>\n",
       "      <td>Desktop</td>\n",
       "      <td>Undetermined</td>\n",
       "      <td>14.63</td>\n",
       "      <td>5</td>\n",
       "      <td>3</td>\n",
       "      <td>0.0</td>\n",
       "    </tr>\n",
       "    <tr>\n",
       "      <th>4</th>\n",
       "      <td>2019-10-18</td>\n",
       "      <td>Performance</td>\n",
       "      <td>Google Ads</td>\n",
       "      <td>Search</td>\n",
       "      <td>Search Keywords</td>\n",
       "      <td>Brand</td>\n",
       "      <td>'-</td>\n",
       "      <td>'-</td>\n",
       "      <td>'-</td>\n",
       "      <td>Mobile</td>\n",
       "      <td>Undetermined</td>\n",
       "      <td>0.00</td>\n",
       "      <td>2</td>\n",
       "      <td>0</td>\n",
       "      <td>0.0</td>\n",
       "    </tr>\n",
       "  </tbody>\n",
       "</table>\n",
       "</div>"
      ],
      "text/plain": [
       "        Date        phase campaign_platform campaign_type  \\\n",
       "0 2019-10-16  Performance        Google Ads        Search   \n",
       "1 2019-10-16  Performance        Google Ads        Search   \n",
       "2 2019-10-16  Performance        Google Ads        Search   \n",
       "3 2019-10-16  Performance        Google Ads        Search   \n",
       "4 2019-10-18  Performance        Google Ads        Search   \n",
       "\n",
       "  communication_medium subchannel audience_type creative_type creative_name  \\\n",
       "0      Search Keywords      Brand            '-            '-            '-   \n",
       "1      Search Keywords      Brand            '-            '-            '-   \n",
       "2      Search Keywords      Brand            '-            '-            '-   \n",
       "3      Search Keywords      Brand            '-            '-            '-   \n",
       "4      Search Keywords      Brand            '-            '-            '-   \n",
       "\n",
       "    device           age  spends  impressions  clicks  link_clicks  \n",
       "0  Desktop         18-24    0.00            2       0          0.0  \n",
       "1  Desktop         25-34    0.00            5       0          0.0  \n",
       "2  Desktop         35-44    0.00            1       0          0.0  \n",
       "3  Desktop  Undetermined   14.63            5       3          0.0  \n",
       "4   Mobile  Undetermined    0.00            2       0          0.0  "
      ]
     },
     "execution_count": 40,
     "metadata": {},
     "output_type": "execute_result"
    }
   ],
   "source": [
    "marketing_campaigns.head()"
   ]
  },
  {
   "cell_type": "markdown",
   "metadata": {},
   "source": [
    "#### 3. phase"
   ]
  },
  {
   "cell_type": "code",
   "execution_count": 42,
   "metadata": {},
   "outputs": [
    {
     "data": {
      "text/plain": [
       "0        Performance\n",
       "1        Performance\n",
       "2        Performance\n",
       "3        Performance\n",
       "4        Performance\n",
       "            ...     \n",
       "16829    Performance\n",
       "16830    Performance\n",
       "16831    Performance\n",
       "16832    Performance\n",
       "16833    Performance\n",
       "Name: phase, Length: 16834, dtype: object"
      ]
     },
     "execution_count": 42,
     "metadata": {},
     "output_type": "execute_result"
    }
   ],
   "source": [
    "marketing_campaigns.iloc[:, 1]"
   ]
  },
  {
   "cell_type": "code",
   "execution_count": 44,
   "metadata": {},
   "outputs": [
    {
     "data": {
      "text/plain": [
       "array(['Performance'], dtype=object)"
      ]
     },
     "execution_count": 44,
     "metadata": {},
     "output_type": "execute_result"
    }
   ],
   "source": [
    "marketing_campaigns.iloc[:, 1].unique()"
   ]
  },
  {
   "cell_type": "code",
   "execution_count": 45,
   "metadata": {},
   "outputs": [
    {
     "data": {
      "text/plain": [
       "Performance    16834\n",
       "Name: phase, dtype: int64"
      ]
     },
     "execution_count": 45,
     "metadata": {},
     "output_type": "execute_result"
    }
   ],
   "source": [
    "marketing_campaigns.iloc[:, 1].value_counts()"
   ]
  },
  {
   "cell_type": "code",
   "execution_count": 46,
   "metadata": {},
   "outputs": [],
   "source": [
    "marketing_campaigns.drop(\"phase\", axis = 1, inplace = True)"
   ]
  },
  {
   "cell_type": "code",
   "execution_count": 47,
   "metadata": {},
   "outputs": [
    {
     "data": {
      "text/html": [
       "<div>\n",
       "<style scoped>\n",
       "    .dataframe tbody tr th:only-of-type {\n",
       "        vertical-align: middle;\n",
       "    }\n",
       "\n",
       "    .dataframe tbody tr th {\n",
       "        vertical-align: top;\n",
       "    }\n",
       "\n",
       "    .dataframe thead th {\n",
       "        text-align: right;\n",
       "    }\n",
       "</style>\n",
       "<table border=\"1\" class=\"dataframe\">\n",
       "  <thead>\n",
       "    <tr style=\"text-align: right;\">\n",
       "      <th></th>\n",
       "      <th>Date</th>\n",
       "      <th>campaign_platform</th>\n",
       "      <th>campaign_type</th>\n",
       "      <th>communication_medium</th>\n",
       "      <th>subchannel</th>\n",
       "      <th>audience_type</th>\n",
       "      <th>creative_type</th>\n",
       "      <th>creative_name</th>\n",
       "      <th>device</th>\n",
       "      <th>age</th>\n",
       "      <th>spends</th>\n",
       "      <th>impressions</th>\n",
       "      <th>clicks</th>\n",
       "      <th>link_clicks</th>\n",
       "    </tr>\n",
       "  </thead>\n",
       "  <tbody>\n",
       "    <tr>\n",
       "      <th>0</th>\n",
       "      <td>2019-10-16</td>\n",
       "      <td>Google Ads</td>\n",
       "      <td>Search</td>\n",
       "      <td>Search Keywords</td>\n",
       "      <td>Brand</td>\n",
       "      <td>'-</td>\n",
       "      <td>'-</td>\n",
       "      <td>'-</td>\n",
       "      <td>Desktop</td>\n",
       "      <td>18-24</td>\n",
       "      <td>0.00</td>\n",
       "      <td>2</td>\n",
       "      <td>0</td>\n",
       "      <td>0.0</td>\n",
       "    </tr>\n",
       "    <tr>\n",
       "      <th>1</th>\n",
       "      <td>2019-10-16</td>\n",
       "      <td>Google Ads</td>\n",
       "      <td>Search</td>\n",
       "      <td>Search Keywords</td>\n",
       "      <td>Brand</td>\n",
       "      <td>'-</td>\n",
       "      <td>'-</td>\n",
       "      <td>'-</td>\n",
       "      <td>Desktop</td>\n",
       "      <td>25-34</td>\n",
       "      <td>0.00</td>\n",
       "      <td>5</td>\n",
       "      <td>0</td>\n",
       "      <td>0.0</td>\n",
       "    </tr>\n",
       "    <tr>\n",
       "      <th>2</th>\n",
       "      <td>2019-10-16</td>\n",
       "      <td>Google Ads</td>\n",
       "      <td>Search</td>\n",
       "      <td>Search Keywords</td>\n",
       "      <td>Brand</td>\n",
       "      <td>'-</td>\n",
       "      <td>'-</td>\n",
       "      <td>'-</td>\n",
       "      <td>Desktop</td>\n",
       "      <td>35-44</td>\n",
       "      <td>0.00</td>\n",
       "      <td>1</td>\n",
       "      <td>0</td>\n",
       "      <td>0.0</td>\n",
       "    </tr>\n",
       "    <tr>\n",
       "      <th>3</th>\n",
       "      <td>2019-10-16</td>\n",
       "      <td>Google Ads</td>\n",
       "      <td>Search</td>\n",
       "      <td>Search Keywords</td>\n",
       "      <td>Brand</td>\n",
       "      <td>'-</td>\n",
       "      <td>'-</td>\n",
       "      <td>'-</td>\n",
       "      <td>Desktop</td>\n",
       "      <td>Undetermined</td>\n",
       "      <td>14.63</td>\n",
       "      <td>5</td>\n",
       "      <td>3</td>\n",
       "      <td>0.0</td>\n",
       "    </tr>\n",
       "    <tr>\n",
       "      <th>4</th>\n",
       "      <td>2019-10-18</td>\n",
       "      <td>Google Ads</td>\n",
       "      <td>Search</td>\n",
       "      <td>Search Keywords</td>\n",
       "      <td>Brand</td>\n",
       "      <td>'-</td>\n",
       "      <td>'-</td>\n",
       "      <td>'-</td>\n",
       "      <td>Mobile</td>\n",
       "      <td>Undetermined</td>\n",
       "      <td>0.00</td>\n",
       "      <td>2</td>\n",
       "      <td>0</td>\n",
       "      <td>0.0</td>\n",
       "    </tr>\n",
       "  </tbody>\n",
       "</table>\n",
       "</div>"
      ],
      "text/plain": [
       "        Date campaign_platform campaign_type communication_medium subchannel  \\\n",
       "0 2019-10-16        Google Ads        Search      Search Keywords      Brand   \n",
       "1 2019-10-16        Google Ads        Search      Search Keywords      Brand   \n",
       "2 2019-10-16        Google Ads        Search      Search Keywords      Brand   \n",
       "3 2019-10-16        Google Ads        Search      Search Keywords      Brand   \n",
       "4 2019-10-18        Google Ads        Search      Search Keywords      Brand   \n",
       "\n",
       "  audience_type creative_type creative_name   device           age  spends  \\\n",
       "0            '-            '-            '-  Desktop         18-24    0.00   \n",
       "1            '-            '-            '-  Desktop         25-34    0.00   \n",
       "2            '-            '-            '-  Desktop         35-44    0.00   \n",
       "3            '-            '-            '-  Desktop  Undetermined   14.63   \n",
       "4            '-            '-            '-   Mobile  Undetermined    0.00   \n",
       "\n",
       "   impressions  clicks  link_clicks  \n",
       "0            2       0          0.0  \n",
       "1            5       0          0.0  \n",
       "2            1       0          0.0  \n",
       "3            5       3          0.0  \n",
       "4            2       0          0.0  "
      ]
     },
     "execution_count": 47,
     "metadata": {},
     "output_type": "execute_result"
    }
   ],
   "source": [
    "marketing_campaigns.head()"
   ]
  },
  {
   "cell_type": "markdown",
   "metadata": {},
   "source": [
    "#### 4. campaign_platform"
   ]
  },
  {
   "cell_type": "code",
   "execution_count": 48,
   "metadata": {},
   "outputs": [
    {
     "data": {
      "text/plain": [
       "0        Google Ads\n",
       "1        Google Ads\n",
       "2        Google Ads\n",
       "3        Google Ads\n",
       "4        Google Ads\n",
       "            ...    \n",
       "16829    Google Ads\n",
       "16830    Google Ads\n",
       "16831    Google Ads\n",
       "16832    Google Ads\n",
       "16833    Google Ads\n",
       "Name: campaign_platform, Length: 16834, dtype: object"
      ]
     },
     "execution_count": 48,
     "metadata": {},
     "output_type": "execute_result"
    }
   ],
   "source": [
    "marketing_campaigns.iloc[:, 1]"
   ]
  },
  {
   "cell_type": "code",
   "execution_count": 49,
   "metadata": {},
   "outputs": [
    {
     "data": {
      "text/plain": [
       "array(['Google Ads', 'Facebook Ads'], dtype=object)"
      ]
     },
     "execution_count": 49,
     "metadata": {},
     "output_type": "execute_result"
    }
   ],
   "source": [
    "marketing_campaigns.iloc[:, 1].unique()"
   ]
  },
  {
   "cell_type": "code",
   "execution_count": 52,
   "metadata": {},
   "outputs": [
    {
     "data": {
      "text/plain": [
       "Google Ads      15101\n",
       "Facebook Ads     1733\n",
       "Name: campaign_platform, dtype: int64"
      ]
     },
     "execution_count": 52,
     "metadata": {},
     "output_type": "execute_result"
    }
   ],
   "source": [
    "campaign_platform_count = marketing_campaigns.iloc[:, 1].value_counts()\n",
    "campaign_platform_count"
   ]
  },
  {
   "cell_type": "code",
   "execution_count": 51,
   "metadata": {},
   "outputs": [
    {
     "data": {
      "text/plain": [
       "<matplotlib.axes._subplots.AxesSubplot at 0x7fce9b5b0650>"
      ]
     },
     "execution_count": 51,
     "metadata": {},
     "output_type": "execute_result"
    },
    {
     "data": {
      "image/png": "[encoded data removed]",
      "text/plain": [
       "<Figure size 432x288 with 1 Axes>"
      ]
     },
     "metadata": {},
     "output_type": "display_data"
    }
   ],
   "source": [
    "sb.countplot(x = \"campaign_platform\", data = marketing_campaigns)"
   ]
  },
  {
   "cell_type": "code",
   "execution_count": 58,
   "metadata": {
    "scrolled": true
   },
   "outputs": [
    {
     "name": "stdout",
     "output_type": "stream",
     "text": [
      "Percentage of Attraction from Google Ads : 89.71%\n",
      "Percentage of Attraction from Facebook Ads : 10.29%\n"
     ]
    }
   ],
   "source": [
    "print(\"Percentage of Attraction from Google Ads : {:.2f}%\".format((campaign_platform_count[\"Google Ads\"] / 16834)*100))\n",
    "print(\"Percentage of Attraction from Facebook Ads : {:.2f}%\".format((campaign_platform_count[\"Facebook Ads\"] / 16834)*100))"
   ]
  },
  {
   "cell_type": "markdown",
   "metadata": {},
   "source": [
    "#### 5. campaign_type"
   ]
  },
  {
   "cell_type": "code",
   "execution_count": 59,
   "metadata": {},
   "outputs": [
    {
     "data": {
      "text/plain": [
       "0        Search\n",
       "1        Search\n",
       "2        Search\n",
       "3        Search\n",
       "4        Search\n",
       "          ...  \n",
       "16829    Search\n",
       "16830    Search\n",
       "16831    Search\n",
       "16832    Search\n",
       "16833    Search\n",
       "Name: campaign_type, Length: 16834, dtype: object"
      ]
     },
     "execution_count": 59,
     "metadata": {},
     "output_type": "execute_result"
    }
   ],
   "source": [
    "marketing_campaigns.iloc[:, 2]"
   ]
  },
  {
   "cell_type": "code",
   "execution_count": 60,
   "metadata": {},
   "outputs": [
    {
     "data": {
      "text/plain": [
       "array(['Search', 'Conversions'], dtype=object)"
      ]
     },
     "execution_count": 60,
     "metadata": {},
     "output_type": "execute_result"
    }
   ],
   "source": [
    "marketing_campaigns.iloc[:, 2].unique()"
   ]
  },
  {
   "cell_type": "code",
   "execution_count": 64,
   "metadata": {},
   "outputs": [
    {
     "data": {
      "text/plain": [
       "Search         15101\n",
       "Conversions     1733\n",
       "Name: campaign_type, dtype: int64"
      ]
     },
     "execution_count": 64,
     "metadata": {},
     "output_type": "execute_result"
    }
   ],
   "source": [
    "campaign_type_count = marketing_campaigns.iloc[:, 2].value_counts()\n",
    "campaign_type_count"
   ]
  },
  {
   "cell_type": "code",
   "execution_count": 63,
   "metadata": {},
   "outputs": [
    {
     "data": {
      "text/plain": [
       "<matplotlib.axes._subplots.AxesSubplot at 0x7fce9c3e45d0>"
      ]
     },
     "execution_count": 63,
     "metadata": {},
     "output_type": "execute_result"
    },
    {
     "data": {
      "image/png": "[encoded data removed]",
      "text/plain": [
       "<Figure size 432x288 with 1 Axes>"
      ]
     },
     "metadata": {},
     "output_type": "display_data"
    }
   ],
   "source": [
    "sb.countplot(x = \"campaign_type\", data = marketing_campaigns)"
   ]
  },
  {
   "cell_type": "code",
   "execution_count": 67,
   "metadata": {},
   "outputs": [
    {
     "name": "stdout",
     "output_type": "stream",
     "text": [
      "Percentage of Attraction from Search : 89.71%\n",
      "Percentage of Attraction from Conversions : 10.29%\n"
     ]
    }
   ],
   "source": [
    "print(\"Percentage of Attraction from Search : {:.2f}%\".format((campaign_type_count[\"Search\"] / 16834)*100))\n",
    "print(\"Percentage of Attraction from Conversions : {:.2f}%\".format((campaign_type_count[\"Conversions\"] / 16834)*100))"
   ]
  },
  {
   "cell_type": "code",
   "execution_count": 72,
   "metadata": {
    "scrolled": true
   },
   "outputs": [
    {
     "data": {
      "text/plain": [
       "Search    15101\n",
       "Name: campaign_type, dtype: int64"
      ]
     },
     "execution_count": 72,
     "metadata": {},
     "output_type": "execute_result"
    }
   ],
   "source": [
    "marketing_campaigns[marketing_campaigns[\"campaign_platform\"] == \"Google Ads\"].iloc[:, 2].value_counts()"
   ]
  },
  {
   "cell_type": "code",
   "execution_count": 74,
   "metadata": {},
   "outputs": [
    {
     "data": {
      "text/plain": [
       "Conversions    1733\n",
       "Name: campaign_type, dtype: int64"
      ]
     },
     "execution_count": 74,
     "metadata": {},
     "output_type": "execute_result"
    }
   ],
   "source": [
    "marketing_campaigns[marketing_campaigns[\"campaign_platform\"] == \"Facebook Ads\"].iloc[:, 2].value_counts()"
   ]
  },
  {
   "cell_type": "markdown",
   "metadata": {},
   "source": [
    "If campaign_platform is `Google Ads`, then camapign_type is `Search`.\n",
    "\n",
    "If campaign_platform is `Facebook Ads`, then camapign_type is `Conversions`."
   ]
  },
  {
   "cell_type": "code",
   "execution_count": 75,
   "metadata": {},
   "outputs": [],
   "source": [
    "# Dropping campaign type column due to similarity\n",
    "marketing_campaigns.drop(\"campaign_type\", axis = 1, inplace = True)"
   ]
  },
  {
   "cell_type": "code",
   "execution_count": 76,
   "metadata": {},
   "outputs": [
    {
     "data": {
      "text/html": [
       "<div>\n",
       "<style scoped>\n",
       "    .dataframe tbody tr th:only-of-type {\n",
       "        vertical-align: middle;\n",
       "    }\n",
       "\n",
       "    .dataframe tbody tr th {\n",
       "        vertical-align: top;\n",
       "    }\n",
       "\n",
       "    .dataframe thead th {\n",
       "        text-align: right;\n",
       "    }\n",
       "</style>\n",
       "<table border=\"1\" class=\"dataframe\">\n",
       "  <thead>\n",
       "    <tr style=\"text-align: right;\">\n",
       "      <th></th>\n",
       "      <th>Date</th>\n",
       "      <th>campaign_platform</th>\n",
       "      <th>communication_medium</th>\n",
       "      <th>subchannel</th>\n",
       "      <th>audience_type</th>\n",
       "      <th>creative_type</th>\n",
       "      <th>creative_name</th>\n",
       "      <th>device</th>\n",
       "      <th>age</th>\n",
       "      <th>spends</th>\n",
       "      <th>impressions</th>\n",
       "      <th>clicks</th>\n",
       "      <th>link_clicks</th>\n",
       "    </tr>\n",
       "  </thead>\n",
       "  <tbody>\n",
       "    <tr>\n",
       "      <th>0</th>\n",
       "      <td>2019-10-16</td>\n",
       "      <td>Google Ads</td>\n",
       "      <td>Search Keywords</td>\n",
       "      <td>Brand</td>\n",
       "      <td>'-</td>\n",
       "      <td>'-</td>\n",
       "      <td>'-</td>\n",
       "      <td>Desktop</td>\n",
       "      <td>18-24</td>\n",
       "      <td>0.00</td>\n",
       "      <td>2</td>\n",
       "      <td>0</td>\n",
       "      <td>0.0</td>\n",
       "    </tr>\n",
       "    <tr>\n",
       "      <th>1</th>\n",
       "      <td>2019-10-16</td>\n",
       "      <td>Google Ads</td>\n",
       "      <td>Search Keywords</td>\n",
       "      <td>Brand</td>\n",
       "      <td>'-</td>\n",
       "      <td>'-</td>\n",
       "      <td>'-</td>\n",
       "      <td>Desktop</td>\n",
       "      <td>25-34</td>\n",
       "      <td>0.00</td>\n",
       "      <td>5</td>\n",
       "      <td>0</td>\n",
       "      <td>0.0</td>\n",
       "    </tr>\n",
       "    <tr>\n",
       "      <th>2</th>\n",
       "      <td>2019-10-16</td>\n",
       "      <td>Google Ads</td>\n",
       "      <td>Search Keywords</td>\n",
       "      <td>Brand</td>\n",
       "      <td>'-</td>\n",
       "      <td>'-</td>\n",
       "      <td>'-</td>\n",
       "      <td>Desktop</td>\n",
       "      <td>35-44</td>\n",
       "      <td>0.00</td>\n",
       "      <td>1</td>\n",
       "      <td>0</td>\n",
       "      <td>0.0</td>\n",
       "    </tr>\n",
       "    <tr>\n",
       "      <th>3</th>\n",
       "      <td>2019-10-16</td>\n",
       "      <td>Google Ads</td>\n",
       "      <td>Search Keywords</td>\n",
       "      <td>Brand</td>\n",
       "      <td>'-</td>\n",
       "      <td>'-</td>\n",
       "      <td>'-</td>\n",
       "      <td>Desktop</td>\n",
       "      <td>Undetermined</td>\n",
       "      <td>14.63</td>\n",
       "      <td>5</td>\n",
       "      <td>3</td>\n",
       "      <td>0.0</td>\n",
       "    </tr>\n",
       "    <tr>\n",
       "      <th>4</th>\n",
       "      <td>2019-10-18</td>\n",
       "      <td>Google Ads</td>\n",
       "      <td>Search Keywords</td>\n",
       "      <td>Brand</td>\n",
       "      <td>'-</td>\n",
       "      <td>'-</td>\n",
       "      <td>'-</td>\n",
       "      <td>Mobile</td>\n",
       "      <td>Undetermined</td>\n",
       "      <td>0.00</td>\n",
       "      <td>2</td>\n",
       "      <td>0</td>\n",
       "      <td>0.0</td>\n",
       "    </tr>\n",
       "  </tbody>\n",
       "</table>\n",
       "</div>"
      ],
      "text/plain": [
       "        Date campaign_platform communication_medium subchannel audience_type  \\\n",
       "0 2019-10-16        Google Ads      Search Keywords      Brand            '-   \n",
       "1 2019-10-16        Google Ads      Search Keywords      Brand            '-   \n",
       "2 2019-10-16        Google Ads      Search Keywords      Brand            '-   \n",
       "3 2019-10-16        Google Ads      Search Keywords      Brand            '-   \n",
       "4 2019-10-18        Google Ads      Search Keywords      Brand            '-   \n",
       "\n",
       "  creative_type creative_name   device           age  spends  impressions  \\\n",
       "0            '-            '-  Desktop         18-24    0.00            2   \n",
       "1            '-            '-  Desktop         25-34    0.00            5   \n",
       "2            '-            '-  Desktop         35-44    0.00            1   \n",
       "3            '-            '-  Desktop  Undetermined   14.63            5   \n",
       "4            '-            '-   Mobile  Undetermined    0.00            2   \n",
       "\n",
       "   clicks  link_clicks  \n",
       "0       0          0.0  \n",
       "1       0          0.0  \n",
       "2       0          0.0  \n",
       "3       3          0.0  \n",
       "4       0          0.0  "
      ]
     },
     "execution_count": 76,
     "metadata": {},
     "output_type": "execute_result"
    }
   ],
   "source": [
    "marketing_campaigns.head()"
   ]
  },
  {
   "cell_type": "markdown",
   "metadata": {},
   "source": [
    "#### 6. Communication Medium"
   ]
  },
  {
   "cell_type": "code",
   "execution_count": 77,
   "metadata": {},
   "outputs": [
    {
     "data": {
      "text/plain": [
       "0        Search Keywords\n",
       "1        Search Keywords\n",
       "2        Search Keywords\n",
       "3        Search Keywords\n",
       "4        Search Keywords\n",
       "              ...       \n",
       "16829    Search Keywords\n",
       "16830    Search Keywords\n",
       "16831    Search Keywords\n",
       "16832    Search Keywords\n",
       "16833    Search Keywords\n",
       "Name: communication_medium, Length: 16834, dtype: object"
      ]
     },
     "execution_count": 77,
     "metadata": {},
     "output_type": "execute_result"
    }
   ],
   "source": [
    "marketing_campaigns.iloc[:, 2]"
   ]
  },
  {
   "cell_type": "code",
   "execution_count": 78,
   "metadata": {},
   "outputs": [
    {
     "data": {
      "text/plain": [
       "array(['Search Keywords', 'Creative'], dtype=object)"
      ]
     },
     "execution_count": 78,
     "metadata": {},
     "output_type": "execute_result"
    }
   ],
   "source": [
    "marketing_campaigns.iloc[:, 2].unique()"
   ]
  },
  {
   "cell_type": "code",
   "execution_count": 81,
   "metadata": {},
   "outputs": [
    {
     "data": {
      "text/plain": [
       "Search Keywords    15101\n",
       "Creative            1733\n",
       "Name: communication_medium, dtype: int64"
      ]
     },
     "execution_count": 81,
     "metadata": {},
     "output_type": "execute_result"
    }
   ],
   "source": [
    "communication_medium_count = marketing_campaigns.iloc[:, 2].value_counts()\n",
    "communication_medium_count"
   ]
  },
  {
   "cell_type": "code",
   "execution_count": 80,
   "metadata": {},
   "outputs": [
    {
     "data": {
      "text/plain": [
       "<matplotlib.axes._subplots.AxesSubplot at 0x7fce9c452050>"
      ]
     },
     "execution_count": 80,
     "metadata": {},
     "output_type": "execute_result"
    },
    {
     "data": {
      "image/png": "[encoded data removed]",
      "text/plain": [
       "<Figure size 432x288 with 1 Axes>"
      ]
     },
     "metadata": {},
     "output_type": "display_data"
    }
   ],
   "source": [
    "sb.countplot(x = \"communication_medium\", data = marketing_campaigns)"
   ]
  },
  {
   "cell_type": "code",
   "execution_count": 83,
   "metadata": {},
   "outputs": [
    {
     "name": "stdout",
     "output_type": "stream",
     "text": [
      "Percentage of Attraction from Search keywords : 89.71%\n",
      "Percentage of Attraction from Creative : 10.29%\n"
     ]
    }
   ],
   "source": [
    "print(\"Percentage of Attraction from Search keywords : {:.2f}%\".format((communication_medium_count[\"Search Keywords\"] / 16834)*100))\n",
    "print(\"Percentage of Attraction from Creative : {:.2f}%\".format((communication_medium_count[\"Creative\"] / 16834)*100))"
   ]
  },
  {
   "cell_type": "code",
   "execution_count": 84,
   "metadata": {
    "scrolled": true
   },
   "outputs": [
    {
     "data": {
      "text/plain": [
       "Search Keywords    15101\n",
       "Name: communication_medium, dtype: int64"
      ]
     },
     "execution_count": 84,
     "metadata": {},
     "output_type": "execute_result"
    }
   ],
   "source": [
    "marketing_campaigns[marketing_campaigns[\"campaign_platform\"] == \"Google Ads\"].iloc[:, 2].value_counts()"
   ]
  },
  {
   "cell_type": "code",
   "execution_count": 85,
   "metadata": {},
   "outputs": [
    {
     "data": {
      "text/plain": [
       "Creative    1733\n",
       "Name: communication_medium, dtype: int64"
      ]
     },
     "execution_count": 85,
     "metadata": {},
     "output_type": "execute_result"
    }
   ],
   "source": [
    "marketing_campaigns[marketing_campaigns[\"campaign_platform\"] == \"Facebook Ads\"].iloc[:, 2].value_counts()"
   ]
  },
  {
   "cell_type": "markdown",
   "metadata": {},
   "source": [
    "If campaign_platform is `Google Ads`, then communication_medium is `Search Keywords`.\n",
    "\n",
    "If campaign_platform is `Facebook Ads`, then communication_medium is `Creative`."
   ]
  },
  {
   "cell_type": "code",
   "execution_count": 86,
   "metadata": {},
   "outputs": [],
   "source": [
    "# Dropping Communication Medium Column due to similarity\n",
    "marketing_campaigns.drop(\"communication_medium\", axis = 1, inplace = True)"
   ]
  },
  {
   "cell_type": "code",
   "execution_count": 87,
   "metadata": {},
   "outputs": [
    {
     "data": {
      "text/html": [
       "<div>\n",
       "<style scoped>\n",
       "    .dataframe tbody tr th:only-of-type {\n",
       "        vertical-align: middle;\n",
       "    }\n",
       "\n",
       "    .dataframe tbody tr th {\n",
       "        vertical-align: top;\n",
       "    }\n",
       "\n",
       "    .dataframe thead th {\n",
       "        text-align: right;\n",
       "    }\n",
       "</style>\n",
       "<table border=\"1\" class=\"dataframe\">\n",
       "  <thead>\n",
       "    <tr style=\"text-align: right;\">\n",
       "      <th></th>\n",
       "      <th>Date</th>\n",
       "      <th>campaign_platform</th>\n",
       "      <th>subchannel</th>\n",
       "      <th>audience_type</th>\n",
       "      <th>creative_type</th>\n",
       "      <th>creative_name</th>\n",
       "      <th>device</th>\n",
       "      <th>age</th>\n",
       "      <th>spends</th>\n",
       "      <th>impressions</th>\n",
       "      <th>clicks</th>\n",
       "      <th>link_clicks</th>\n",
       "    </tr>\n",
       "  </thead>\n",
       "  <tbody>\n",
       "    <tr>\n",
       "      <th>0</th>\n",
       "      <td>2019-10-16</td>\n",
       "      <td>Google Ads</td>\n",
       "      <td>Brand</td>\n",
       "      <td>'-</td>\n",
       "      <td>'-</td>\n",
       "      <td>'-</td>\n",
       "      <td>Desktop</td>\n",
       "      <td>18-24</td>\n",
       "      <td>0.00</td>\n",
       "      <td>2</td>\n",
       "      <td>0</td>\n",
       "      <td>0.0</td>\n",
       "    </tr>\n",
       "    <tr>\n",
       "      <th>1</th>\n",
       "      <td>2019-10-16</td>\n",
       "      <td>Google Ads</td>\n",
       "      <td>Brand</td>\n",
       "      <td>'-</td>\n",
       "      <td>'-</td>\n",
       "      <td>'-</td>\n",
       "      <td>Desktop</td>\n",
       "      <td>25-34</td>\n",
       "      <td>0.00</td>\n",
       "      <td>5</td>\n",
       "      <td>0</td>\n",
       "      <td>0.0</td>\n",
       "    </tr>\n",
       "    <tr>\n",
       "      <th>2</th>\n",
       "      <td>2019-10-16</td>\n",
       "      <td>Google Ads</td>\n",
       "      <td>Brand</td>\n",
       "      <td>'-</td>\n",
       "      <td>'-</td>\n",
       "      <td>'-</td>\n",
       "      <td>Desktop</td>\n",
       "      <td>35-44</td>\n",
       "      <td>0.00</td>\n",
       "      <td>1</td>\n",
       "      <td>0</td>\n",
       "      <td>0.0</td>\n",
       "    </tr>\n",
       "    <tr>\n",
       "      <th>3</th>\n",
       "      <td>2019-10-16</td>\n",
       "      <td>Google Ads</td>\n",
       "      <td>Brand</td>\n",
       "      <td>'-</td>\n",
       "      <td>'-</td>\n",
       "      <td>'-</td>\n",
       "      <td>Desktop</td>\n",
       "      <td>Undetermined</td>\n",
       "      <td>14.63</td>\n",
       "      <td>5</td>\n",
       "      <td>3</td>\n",
       "      <td>0.0</td>\n",
       "    </tr>\n",
       "    <tr>\n",
       "      <th>4</th>\n",
       "      <td>2019-10-18</td>\n",
       "      <td>Google Ads</td>\n",
       "      <td>Brand</td>\n",
       "      <td>'-</td>\n",
       "      <td>'-</td>\n",
       "      <td>'-</td>\n",
       "      <td>Mobile</td>\n",
       "      <td>Undetermined</td>\n",
       "      <td>0.00</td>\n",
       "      <td>2</td>\n",
       "      <td>0</td>\n",
       "      <td>0.0</td>\n",
       "    </tr>\n",
       "  </tbody>\n",
       "</table>\n",
       "</div>"
      ],
      "text/plain": [
       "        Date campaign_platform subchannel audience_type creative_type  \\\n",
       "0 2019-10-16        Google Ads      Brand            '-            '-   \n",
       "1 2019-10-16        Google Ads      Brand            '-            '-   \n",
       "2 2019-10-16        Google Ads      Brand            '-            '-   \n",
       "3 2019-10-16        Google Ads      Brand            '-            '-   \n",
       "4 2019-10-18        Google Ads      Brand            '-            '-   \n",
       "\n",
       "  creative_name   device           age  spends  impressions  clicks  \\\n",
       "0            '-  Desktop         18-24    0.00            2       0   \n",
       "1            '-  Desktop         25-34    0.00            5       0   \n",
       "2            '-  Desktop         35-44    0.00            1       0   \n",
       "3            '-  Desktop  Undetermined   14.63            5       3   \n",
       "4            '-   Mobile  Undetermined    0.00            2       0   \n",
       "\n",
       "   link_clicks  \n",
       "0          0.0  \n",
       "1          0.0  \n",
       "2          0.0  \n",
       "3          0.0  \n",
       "4          0.0  "
      ]
     },
     "execution_count": 87,
     "metadata": {},
     "output_type": "execute_result"
    }
   ],
   "source": [
    "marketing_campaigns.head()"
   ]
  },
  {
   "cell_type": "code",
   "execution_count": 91,
   "metadata": {},
   "outputs": [],
   "source": [
    "# Altering values of campaign platform column\n",
    "marketing_campaigns.iloc[:, 1] = marketing_campaigns.iloc[:, 1].apply(lambda platform: {\"Google Ads\" : \"Google Ads_Search_Keywords\", \n",
    "                                                 \"Facebook Ads\" : \"Facebook Ads_Conversions_Creative\"}[platform])"
   ]
  },
  {
   "cell_type": "code",
   "execution_count": 93,
   "metadata": {},
   "outputs": [
    {
     "data": {
      "text/html": [
       "<div>\n",
       "<style scoped>\n",
       "    .dataframe tbody tr th:only-of-type {\n",
       "        vertical-align: middle;\n",
       "    }\n",
       "\n",
       "    .dataframe tbody tr th {\n",
       "        vertical-align: top;\n",
       "    }\n",
       "\n",
       "    .dataframe thead th {\n",
       "        text-align: right;\n",
       "    }\n",
       "</style>\n",
       "<table border=\"1\" class=\"dataframe\">\n",
       "  <thead>\n",
       "    <tr style=\"text-align: right;\">\n",
       "      <th></th>\n",
       "      <th>Date</th>\n",
       "      <th>campaign_platform</th>\n",
       "      <th>subchannel</th>\n",
       "      <th>audience_type</th>\n",
       "      <th>creative_type</th>\n",
       "      <th>creative_name</th>\n",
       "      <th>device</th>\n",
       "      <th>age</th>\n",
       "      <th>spends</th>\n",
       "      <th>impressions</th>\n",
       "      <th>clicks</th>\n",
       "      <th>link_clicks</th>\n",
       "    </tr>\n",
       "  </thead>\n",
       "  <tbody>\n",
       "    <tr>\n",
       "      <th>0</th>\n",
       "      <td>2019-10-16</td>\n",
       "      <td>Google Ads_Search_Keywords</td>\n",
       "      <td>Brand</td>\n",
       "      <td>'-</td>\n",
       "      <td>'-</td>\n",
       "      <td>'-</td>\n",
       "      <td>Desktop</td>\n",
       "      <td>18-24</td>\n",
       "      <td>0.00</td>\n",
       "      <td>2</td>\n",
       "      <td>0</td>\n",
       "      <td>0.0</td>\n",
       "    </tr>\n",
       "    <tr>\n",
       "      <th>1</th>\n",
       "      <td>2019-10-16</td>\n",
       "      <td>Google Ads_Search_Keywords</td>\n",
       "      <td>Brand</td>\n",
       "      <td>'-</td>\n",
       "      <td>'-</td>\n",
       "      <td>'-</td>\n",
       "      <td>Desktop</td>\n",
       "      <td>25-34</td>\n",
       "      <td>0.00</td>\n",
       "      <td>5</td>\n",
       "      <td>0</td>\n",
       "      <td>0.0</td>\n",
       "    </tr>\n",
       "    <tr>\n",
       "      <th>2</th>\n",
       "      <td>2019-10-16</td>\n",
       "      <td>Google Ads_Search_Keywords</td>\n",
       "      <td>Brand</td>\n",
       "      <td>'-</td>\n",
       "      <td>'-</td>\n",
       "      <td>'-</td>\n",
       "      <td>Desktop</td>\n",
       "      <td>35-44</td>\n",
       "      <td>0.00</td>\n",
       "      <td>1</td>\n",
       "      <td>0</td>\n",
       "      <td>0.0</td>\n",
       "    </tr>\n",
       "    <tr>\n",
       "      <th>3</th>\n",
       "      <td>2019-10-16</td>\n",
       "      <td>Google Ads_Search_Keywords</td>\n",
       "      <td>Brand</td>\n",
       "      <td>'-</td>\n",
       "      <td>'-</td>\n",
       "      <td>'-</td>\n",
       "      <td>Desktop</td>\n",
       "      <td>Undetermined</td>\n",
       "      <td>14.63</td>\n",
       "      <td>5</td>\n",
       "      <td>3</td>\n",
       "      <td>0.0</td>\n",
       "    </tr>\n",
       "    <tr>\n",
       "      <th>4</th>\n",
       "      <td>2019-10-18</td>\n",
       "      <td>Google Ads_Search_Keywords</td>\n",
       "      <td>Brand</td>\n",
       "      <td>'-</td>\n",
       "      <td>'-</td>\n",
       "      <td>'-</td>\n",
       "      <td>Mobile</td>\n",
       "      <td>Undetermined</td>\n",
       "      <td>0.00</td>\n",
       "      <td>2</td>\n",
       "      <td>0</td>\n",
       "      <td>0.0</td>\n",
       "    </tr>\n",
       "  </tbody>\n",
       "</table>\n",
       "</div>"
      ],
      "text/plain": [
       "        Date           campaign_platform subchannel audience_type  \\\n",
       "0 2019-10-16  Google Ads_Search_Keywords      Brand            '-   \n",
       "1 2019-10-16  Google Ads_Search_Keywords      Brand            '-   \n",
       "2 2019-10-16  Google Ads_Search_Keywords      Brand            '-   \n",
       "3 2019-10-16  Google Ads_Search_Keywords      Brand            '-   \n",
       "4 2019-10-18  Google Ads_Search_Keywords      Brand            '-   \n",
       "\n",
       "  creative_type creative_name   device           age  spends  impressions  \\\n",
       "0            '-            '-  Desktop         18-24    0.00            2   \n",
       "1            '-            '-  Desktop         25-34    0.00            5   \n",
       "2            '-            '-  Desktop         35-44    0.00            1   \n",
       "3            '-            '-  Desktop  Undetermined   14.63            5   \n",
       "4            '-            '-   Mobile  Undetermined    0.00            2   \n",
       "\n",
       "   clicks  link_clicks  \n",
       "0       0          0.0  \n",
       "1       0          0.0  \n",
       "2       0          0.0  \n",
       "3       3          0.0  \n",
       "4       0          0.0  "
      ]
     },
     "execution_count": 93,
     "metadata": {},
     "output_type": "execute_result"
    }
   ],
   "source": [
    "marketing_campaigns.head()"
   ]
  },
  {
   "cell_type": "markdown",
   "metadata": {},
   "source": [
    "#### 7. Sub_Channel Column"
   ]
  },
  {
   "cell_type": "code",
   "execution_count": 95,
   "metadata": {},
   "outputs": [
    {
     "data": {
      "text/plain": [
       "0        Brand\n",
       "1        Brand\n",
       "2        Brand\n",
       "3        Brand\n",
       "4        Brand\n",
       "         ...  \n",
       "16829    Brand\n",
       "16830    Brand\n",
       "16831    Brand\n",
       "16832    Brand\n",
       "16833    Brand\n",
       "Name: subchannel, Length: 16834, dtype: object"
      ]
     },
     "execution_count": 95,
     "metadata": {},
     "output_type": "execute_result"
    }
   ],
   "source": [
    "marketing_campaigns.iloc[:, 2]"
   ]
  },
  {
   "cell_type": "code",
   "execution_count": 96,
   "metadata": {},
   "outputs": [
    {
     "data": {
      "text/plain": [
       "array(['Brand', 'Generic', 'Competitor', 'Facebook Ads'], dtype=object)"
      ]
     },
     "execution_count": 96,
     "metadata": {},
     "output_type": "execute_result"
    }
   ],
   "source": [
    "marketing_campaigns.iloc[:, 2].unique()"
   ]
  },
  {
   "cell_type": "code",
   "execution_count": 97,
   "metadata": {},
   "outputs": [
    {
     "data": {
      "text/plain": [
       "Brand           7853\n",
       "Generic         4544\n",
       "Competitor      2704\n",
       "Facebook Ads    1733\n",
       "Name: subchannel, dtype: int64"
      ]
     },
     "execution_count": 97,
     "metadata": {},
     "output_type": "execute_result"
    }
   ],
   "source": [
    "marketing_campaigns.iloc[:, 2].value_counts()"
   ]
  },
  {
   "cell_type": "code",
   "execution_count": 98,
   "metadata": {},
   "outputs": [
    {
     "data": {
      "text/plain": [
       "<matplotlib.axes._subplots.AxesSubplot at 0x7fce9ad617d0>"
      ]
     },
     "execution_count": 98,
     "metadata": {},
     "output_type": "execute_result"
    },
    {
     "data": {
      "image/png": "[encoded data removed]",
      "text/plain": [
       "<Figure size 432x288 with 1 Axes>"
      ]
     },
     "metadata": {},
     "output_type": "display_data"
    }
   ],
   "source": [
    "sb.countplot(x = \"subchannel\", data = marketing_campaigns)"
   ]
  },
  {
   "cell_type": "code",
   "execution_count": 99,
   "metadata": {},
   "outputs": [
    {
     "data": {
      "text/plain": [
       "15101"
      ]
     },
     "execution_count": 99,
     "metadata": {},
     "output_type": "execute_result"
    }
   ],
   "source": [
    "7853+4544+2704"
   ]
  },
  {
   "cell_type": "code",
   "execution_count": 100,
   "metadata": {},
   "outputs": [
    {
     "name": "stdout",
     "output_type": "stream",
     "text": [
      "Google Ads - Subchannel - Brand      ==> 52.00\n",
      "Google Ads - Subchannel - Generic    ==> 30.09\n",
      "Google Ads - Subchannel - Competitor ==> 17.91\n"
     ]
    }
   ],
   "source": [
    "print(\"Google Ads - Subchannel - Brand      ==> {:.2f}\".format((7853 / 15101) * 100))\n",
    "print(\"Google Ads - Subchannel - Generic    ==> {:.2f}\".format((4544 / 15101) * 100))\n",
    "print(\"Google Ads - Subchannel - Competitor ==> {:.2f}\".format((2704 / 15101) * 100))"
   ]
  },
  {
   "cell_type": "markdown",
   "metadata": {},
   "source": [
    "#### 8. Audience Type"
   ]
  },
  {
   "cell_type": "code",
   "execution_count": 102,
   "metadata": {},
   "outputs": [
    {
     "data": {
      "text/html": [
       "<div>\n",
       "<style scoped>\n",
       "    .dataframe tbody tr th:only-of-type {\n",
       "        vertical-align: middle;\n",
       "    }\n",
       "\n",
       "    .dataframe tbody tr th {\n",
       "        vertical-align: top;\n",
       "    }\n",
       "\n",
       "    .dataframe thead th {\n",
       "        text-align: right;\n",
       "    }\n",
       "</style>\n",
       "<table border=\"1\" class=\"dataframe\">\n",
       "  <thead>\n",
       "    <tr style=\"text-align: right;\">\n",
       "      <th></th>\n",
       "      <th>Date</th>\n",
       "      <th>campaign_platform</th>\n",
       "      <th>subchannel</th>\n",
       "      <th>audience_type</th>\n",
       "      <th>creative_type</th>\n",
       "      <th>creative_name</th>\n",
       "      <th>device</th>\n",
       "      <th>age</th>\n",
       "      <th>spends</th>\n",
       "      <th>impressions</th>\n",
       "      <th>clicks</th>\n",
       "      <th>link_clicks</th>\n",
       "    </tr>\n",
       "  </thead>\n",
       "  <tbody>\n",
       "    <tr>\n",
       "      <th>0</th>\n",
       "      <td>2019-10-16</td>\n",
       "      <td>Google Ads_Search_Keywords</td>\n",
       "      <td>Brand</td>\n",
       "      <td>'-</td>\n",
       "      <td>'-</td>\n",
       "      <td>'-</td>\n",
       "      <td>Desktop</td>\n",
       "      <td>18-24</td>\n",
       "      <td>0.00</td>\n",
       "      <td>2</td>\n",
       "      <td>0</td>\n",
       "      <td>0.0</td>\n",
       "    </tr>\n",
       "    <tr>\n",
       "      <th>1</th>\n",
       "      <td>2019-10-16</td>\n",
       "      <td>Google Ads_Search_Keywords</td>\n",
       "      <td>Brand</td>\n",
       "      <td>'-</td>\n",
       "      <td>'-</td>\n",
       "      <td>'-</td>\n",
       "      <td>Desktop</td>\n",
       "      <td>25-34</td>\n",
       "      <td>0.00</td>\n",
       "      <td>5</td>\n",
       "      <td>0</td>\n",
       "      <td>0.0</td>\n",
       "    </tr>\n",
       "    <tr>\n",
       "      <th>2</th>\n",
       "      <td>2019-10-16</td>\n",
       "      <td>Google Ads_Search_Keywords</td>\n",
       "      <td>Brand</td>\n",
       "      <td>'-</td>\n",
       "      <td>'-</td>\n",
       "      <td>'-</td>\n",
       "      <td>Desktop</td>\n",
       "      <td>35-44</td>\n",
       "      <td>0.00</td>\n",
       "      <td>1</td>\n",
       "      <td>0</td>\n",
       "      <td>0.0</td>\n",
       "    </tr>\n",
       "    <tr>\n",
       "      <th>3</th>\n",
       "      <td>2019-10-16</td>\n",
       "      <td>Google Ads_Search_Keywords</td>\n",
       "      <td>Brand</td>\n",
       "      <td>'-</td>\n",
       "      <td>'-</td>\n",
       "      <td>'-</td>\n",
       "      <td>Desktop</td>\n",
       "      <td>Undetermined</td>\n",
       "      <td>14.63</td>\n",
       "      <td>5</td>\n",
       "      <td>3</td>\n",
       "      <td>0.0</td>\n",
       "    </tr>\n",
       "    <tr>\n",
       "      <th>4</th>\n",
       "      <td>2019-10-18</td>\n",
       "      <td>Google Ads_Search_Keywords</td>\n",
       "      <td>Brand</td>\n",
       "      <td>'-</td>\n",
       "      <td>'-</td>\n",
       "      <td>'-</td>\n",
       "      <td>Mobile</td>\n",
       "      <td>Undetermined</td>\n",
       "      <td>0.00</td>\n",
       "      <td>2</td>\n",
       "      <td>0</td>\n",
       "      <td>0.0</td>\n",
       "    </tr>\n",
       "  </tbody>\n",
       "</table>\n",
       "</div>"
      ],
      "text/plain": [
       "        Date           campaign_platform subchannel audience_type  \\\n",
       "0 2019-10-16  Google Ads_Search_Keywords      Brand            '-   \n",
       "1 2019-10-16  Google Ads_Search_Keywords      Brand            '-   \n",
       "2 2019-10-16  Google Ads_Search_Keywords      Brand            '-   \n",
       "3 2019-10-16  Google Ads_Search_Keywords      Brand            '-   \n",
       "4 2019-10-18  Google Ads_Search_Keywords      Brand            '-   \n",
       "\n",
       "  creative_type creative_name   device           age  spends  impressions  \\\n",
       "0            '-            '-  Desktop         18-24    0.00            2   \n",
       "1            '-            '-  Desktop         25-34    0.00            5   \n",
       "2            '-            '-  Desktop         35-44    0.00            1   \n",
       "3            '-            '-  Desktop  Undetermined   14.63            5   \n",
       "4            '-            '-   Mobile  Undetermined    0.00            2   \n",
       "\n",
       "   clicks  link_clicks  \n",
       "0       0          0.0  \n",
       "1       0          0.0  \n",
       "2       0          0.0  \n",
       "3       3          0.0  \n",
       "4       0          0.0  "
      ]
     },
     "execution_count": 102,
     "metadata": {},
     "output_type": "execute_result"
    }
   ],
   "source": [
    "marketing_campaigns.head()"
   ]
  },
  {
   "cell_type": "code",
   "execution_count": 103,
   "metadata": {},
   "outputs": [
    {
     "data": {
      "text/plain": [
       "0        '-\n",
       "1        '-\n",
       "2        '-\n",
       "3        '-\n",
       "4        '-\n",
       "         ..\n",
       "16829    '-\n",
       "16830    '-\n",
       "16831    '-\n",
       "16832    '-\n",
       "16833    '-\n",
       "Name: audience_type, Length: 16834, dtype: object"
      ]
     },
     "execution_count": 103,
     "metadata": {},
     "output_type": "execute_result"
    }
   ],
   "source": [
    "marketing_campaigns.iloc[:, 3]"
   ]
  },
  {
   "cell_type": "code",
   "execution_count": 104,
   "metadata": {},
   "outputs": [
    {
     "data": {
      "text/plain": [
       "array([\"'-\", 'Audience 2', 'Audience 3', 'Audience 1'], dtype=object)"
      ]
     },
     "execution_count": 104,
     "metadata": {},
     "output_type": "execute_result"
    }
   ],
   "source": [
    "marketing_campaigns.iloc[:, 3].unique()"
   ]
  },
  {
   "cell_type": "code",
   "execution_count": 105,
   "metadata": {},
   "outputs": [
    {
     "data": {
      "text/plain": [
       "'-            15101\n",
       "Audience 1      813\n",
       "Audience 2      738\n",
       "Audience 3      182\n",
       "Name: audience_type, dtype: int64"
      ]
     },
     "execution_count": 105,
     "metadata": {},
     "output_type": "execute_result"
    }
   ],
   "source": [
    "marketing_campaigns.iloc[:, 3].value_counts()"
   ]
  },
  {
   "cell_type": "code",
   "execution_count": 110,
   "metadata": {},
   "outputs": [
    {
     "data": {
      "text/plain": [
       "Text(0.5, 1.0, 'Facebook Audience')"
      ]
     },
     "execution_count": 110,
     "metadata": {},
     "output_type": "execute_result"
    },
    {
     "data": {
      "image/png": "[encoded data removed]",
      "text/plain": [
       "<Figure size 432x288 with 1 Axes>"
      ]
     },
     "metadata": {},
     "output_type": "display_data"
    }
   ],
   "source": [
    "sb.countplot(x = \"audience_type\", data = marketing_campaigns[marketing_campaigns[\"campaign_platform\"] != \"Google Ads_Search_Keywords\"])\n",
    "plt.title(\"Facebook Audience\", fontsize = 20)"
   ]
  },
  {
   "cell_type": "code",
   "execution_count": 111,
   "metadata": {},
   "outputs": [
    {
     "data": {
      "text/html": [
       "<div>\n",
       "<style scoped>\n",
       "    .dataframe tbody tr th:only-of-type {\n",
       "        vertical-align: middle;\n",
       "    }\n",
       "\n",
       "    .dataframe tbody tr th {\n",
       "        vertical-align: top;\n",
       "    }\n",
       "\n",
       "    .dataframe thead th {\n",
       "        text-align: right;\n",
       "    }\n",
       "</style>\n",
       "<table border=\"1\" class=\"dataframe\">\n",
       "  <thead>\n",
       "    <tr style=\"text-align: right;\">\n",
       "      <th></th>\n",
       "      <th>Date</th>\n",
       "      <th>campaign_platform</th>\n",
       "      <th>subchannel</th>\n",
       "      <th>audience_type</th>\n",
       "      <th>creative_type</th>\n",
       "      <th>creative_name</th>\n",
       "      <th>device</th>\n",
       "      <th>age</th>\n",
       "      <th>spends</th>\n",
       "      <th>impressions</th>\n",
       "      <th>clicks</th>\n",
       "      <th>link_clicks</th>\n",
       "    </tr>\n",
       "  </thead>\n",
       "  <tbody>\n",
       "    <tr>\n",
       "      <th>0</th>\n",
       "      <td>2019-10-16</td>\n",
       "      <td>Google Ads_Search_Keywords</td>\n",
       "      <td>Brand</td>\n",
       "      <td>'-</td>\n",
       "      <td>'-</td>\n",
       "      <td>'-</td>\n",
       "      <td>Desktop</td>\n",
       "      <td>18-24</td>\n",
       "      <td>0.00</td>\n",
       "      <td>2</td>\n",
       "      <td>0</td>\n",
       "      <td>0.0</td>\n",
       "    </tr>\n",
       "    <tr>\n",
       "      <th>1</th>\n",
       "      <td>2019-10-16</td>\n",
       "      <td>Google Ads_Search_Keywords</td>\n",
       "      <td>Brand</td>\n",
       "      <td>'-</td>\n",
       "      <td>'-</td>\n",
       "      <td>'-</td>\n",
       "      <td>Desktop</td>\n",
       "      <td>25-34</td>\n",
       "      <td>0.00</td>\n",
       "      <td>5</td>\n",
       "      <td>0</td>\n",
       "      <td>0.0</td>\n",
       "    </tr>\n",
       "    <tr>\n",
       "      <th>2</th>\n",
       "      <td>2019-10-16</td>\n",
       "      <td>Google Ads_Search_Keywords</td>\n",
       "      <td>Brand</td>\n",
       "      <td>'-</td>\n",
       "      <td>'-</td>\n",
       "      <td>'-</td>\n",
       "      <td>Desktop</td>\n",
       "      <td>35-44</td>\n",
       "      <td>0.00</td>\n",
       "      <td>1</td>\n",
       "      <td>0</td>\n",
       "      <td>0.0</td>\n",
       "    </tr>\n",
       "    <tr>\n",
       "      <th>3</th>\n",
       "      <td>2019-10-16</td>\n",
       "      <td>Google Ads_Search_Keywords</td>\n",
       "      <td>Brand</td>\n",
       "      <td>'-</td>\n",
       "      <td>'-</td>\n",
       "      <td>'-</td>\n",
       "      <td>Desktop</td>\n",
       "      <td>Undetermined</td>\n",
       "      <td>14.63</td>\n",
       "      <td>5</td>\n",
       "      <td>3</td>\n",
       "      <td>0.0</td>\n",
       "    </tr>\n",
       "    <tr>\n",
       "      <th>4</th>\n",
       "      <td>2019-10-18</td>\n",
       "      <td>Google Ads_Search_Keywords</td>\n",
       "      <td>Brand</td>\n",
       "      <td>'-</td>\n",
       "      <td>'-</td>\n",
       "      <td>'-</td>\n",
       "      <td>Mobile</td>\n",
       "      <td>Undetermined</td>\n",
       "      <td>0.00</td>\n",
       "      <td>2</td>\n",
       "      <td>0</td>\n",
       "      <td>0.0</td>\n",
       "    </tr>\n",
       "  </tbody>\n",
       "</table>\n",
       "</div>"
      ],
      "text/plain": [
       "        Date           campaign_platform subchannel audience_type  \\\n",
       "0 2019-10-16  Google Ads_Search_Keywords      Brand            '-   \n",
       "1 2019-10-16  Google Ads_Search_Keywords      Brand            '-   \n",
       "2 2019-10-16  Google Ads_Search_Keywords      Brand            '-   \n",
       "3 2019-10-16  Google Ads_Search_Keywords      Brand            '-   \n",
       "4 2019-10-18  Google Ads_Search_Keywords      Brand            '-   \n",
       "\n",
       "  creative_type creative_name   device           age  spends  impressions  \\\n",
       "0            '-            '-  Desktop         18-24    0.00            2   \n",
       "1            '-            '-  Desktop         25-34    0.00            5   \n",
       "2            '-            '-  Desktop         35-44    0.00            1   \n",
       "3            '-            '-  Desktop  Undetermined   14.63            5   \n",
       "4            '-            '-   Mobile  Undetermined    0.00            2   \n",
       "\n",
       "   clicks  link_clicks  \n",
       "0       0          0.0  \n",
       "1       0          0.0  \n",
       "2       0          0.0  \n",
       "3       3          0.0  \n",
       "4       0          0.0  "
      ]
     },
     "execution_count": 111,
     "metadata": {},
     "output_type": "execute_result"
    }
   ],
   "source": [
    "marketing_campaigns.head()"
   ]
  },
  {
   "cell_type": "markdown",
   "metadata": {},
   "source": [
    "#### 9. Creative Type (Facebook Ads)"
   ]
  },
  {
   "cell_type": "code",
   "execution_count": 114,
   "metadata": {},
   "outputs": [
    {
     "data": {
      "text/plain": [
       "array([\"'-\", 'Image', 'Carousal'], dtype=object)"
      ]
     },
     "execution_count": 114,
     "metadata": {},
     "output_type": "execute_result"
    }
   ],
   "source": [
    "marketing_campaigns.iloc[:, 4].unique()"
   ]
  },
  {
   "cell_type": "code",
   "execution_count": 115,
   "metadata": {},
   "outputs": [
    {
     "data": {
      "text/html": [
       "<div>\n",
       "<style scoped>\n",
       "    .dataframe tbody tr th:only-of-type {\n",
       "        vertical-align: middle;\n",
       "    }\n",
       "\n",
       "    .dataframe tbody tr th {\n",
       "        vertical-align: top;\n",
       "    }\n",
       "\n",
       "    .dataframe thead th {\n",
       "        text-align: right;\n",
       "    }\n",
       "</style>\n",
       "<table border=\"1\" class=\"dataframe\">\n",
       "  <thead>\n",
       "    <tr style=\"text-align: right;\">\n",
       "      <th></th>\n",
       "      <th>Date</th>\n",
       "      <th>campaign_platform</th>\n",
       "      <th>subchannel</th>\n",
       "      <th>audience_type</th>\n",
       "      <th>creative_type</th>\n",
       "      <th>creative_name</th>\n",
       "      <th>device</th>\n",
       "      <th>age</th>\n",
       "      <th>spends</th>\n",
       "      <th>impressions</th>\n",
       "      <th>clicks</th>\n",
       "      <th>link_clicks</th>\n",
       "    </tr>\n",
       "  </thead>\n",
       "  <tbody>\n",
       "    <tr>\n",
       "      <th>2066</th>\n",
       "      <td>2019-12-16</td>\n",
       "      <td>Facebook Ads_Conversions_Creative</td>\n",
       "      <td>Facebook Ads</td>\n",
       "      <td>Audience 2</td>\n",
       "      <td>Image</td>\n",
       "      <td>Click</td>\n",
       "      <td>device</td>\n",
       "      <td>55-64</td>\n",
       "      <td>0.32</td>\n",
       "      <td>7</td>\n",
       "      <td>0</td>\n",
       "      <td>NaN</td>\n",
       "    </tr>\n",
       "    <tr>\n",
       "      <th>2067</th>\n",
       "      <td>2019-12-16</td>\n",
       "      <td>Facebook Ads_Conversions_Creative</td>\n",
       "      <td>Facebook Ads</td>\n",
       "      <td>Audience 2</td>\n",
       "      <td>Image</td>\n",
       "      <td>Click</td>\n",
       "      <td>device</td>\n",
       "      <td>45-54</td>\n",
       "      <td>8.53</td>\n",
       "      <td>77</td>\n",
       "      <td>3</td>\n",
       "      <td>1.0</td>\n",
       "    </tr>\n",
       "    <tr>\n",
       "      <th>2068</th>\n",
       "      <td>2019-12-16</td>\n",
       "      <td>Facebook Ads_Conversions_Creative</td>\n",
       "      <td>Facebook Ads</td>\n",
       "      <td>Audience 2</td>\n",
       "      <td>Image</td>\n",
       "      <td>Click</td>\n",
       "      <td>device</td>\n",
       "      <td>35-44</td>\n",
       "      <td>18.50</td>\n",
       "      <td>111</td>\n",
       "      <td>9</td>\n",
       "      <td>3.0</td>\n",
       "    </tr>\n",
       "    <tr>\n",
       "      <th>2069</th>\n",
       "      <td>2019-12-16</td>\n",
       "      <td>Facebook Ads_Conversions_Creative</td>\n",
       "      <td>Facebook Ads</td>\n",
       "      <td>Audience 2</td>\n",
       "      <td>Image</td>\n",
       "      <td>Click</td>\n",
       "      <td>device</td>\n",
       "      <td>25-34</td>\n",
       "      <td>85.66</td>\n",
       "      <td>397</td>\n",
       "      <td>17</td>\n",
       "      <td>9.0</td>\n",
       "    </tr>\n",
       "    <tr>\n",
       "      <th>2070</th>\n",
       "      <td>2019-12-16</td>\n",
       "      <td>Facebook Ads_Conversions_Creative</td>\n",
       "      <td>Facebook Ads</td>\n",
       "      <td>Audience 2</td>\n",
       "      <td>Carousal</td>\n",
       "      <td>Carousal</td>\n",
       "      <td>device</td>\n",
       "      <td>45-54</td>\n",
       "      <td>1.13</td>\n",
       "      <td>15</td>\n",
       "      <td>0</td>\n",
       "      <td>NaN</td>\n",
       "    </tr>\n",
       "  </tbody>\n",
       "</table>\n",
       "</div>"
      ],
      "text/plain": [
       "           Date                  campaign_platform    subchannel  \\\n",
       "2066 2019-12-16  Facebook Ads_Conversions_Creative  Facebook Ads   \n",
       "2067 2019-12-16  Facebook Ads_Conversions_Creative  Facebook Ads   \n",
       "2068 2019-12-16  Facebook Ads_Conversions_Creative  Facebook Ads   \n",
       "2069 2019-12-16  Facebook Ads_Conversions_Creative  Facebook Ads   \n",
       "2070 2019-12-16  Facebook Ads_Conversions_Creative  Facebook Ads   \n",
       "\n",
       "     audience_type creative_type creative_name  device    age  spends  \\\n",
       "2066    Audience 2         Image         Click  device  55-64    0.32   \n",
       "2067    Audience 2         Image         Click  device  45-54    8.53   \n",
       "2068    Audience 2         Image         Click  device  35-44   18.50   \n",
       "2069    Audience 2         Image         Click  device  25-34   85.66   \n",
       "2070    Audience 2      Carousal      Carousal  device  45-54    1.13   \n",
       "\n",
       "      impressions  clicks  link_clicks  \n",
       "2066            7       0          NaN  \n",
       "2067           77       3          1.0  \n",
       "2068          111       9          3.0  \n",
       "2069          397      17          9.0  \n",
       "2070           15       0          NaN  "
      ]
     },
     "execution_count": 115,
     "metadata": {},
     "output_type": "execute_result"
    }
   ],
   "source": [
    "facebooks_ads_data = marketing_campaigns[marketing_campaigns[\"campaign_platform\"] != 'Google Ads_Search_Keywords']\n",
    "facebooks_ads_data.head()"
   ]
  },
  {
   "cell_type": "code",
   "execution_count": 116,
   "metadata": {},
   "outputs": [
    {
     "data": {
      "text/plain": [
       "array(['Image', 'Carousal'], dtype=object)"
      ]
     },
     "execution_count": 116,
     "metadata": {},
     "output_type": "execute_result"
    }
   ],
   "source": [
    "facebooks_ads_data.iloc[:, 4].unique()"
   ]
  },
  {
   "cell_type": "code",
   "execution_count": 117,
   "metadata": {},
   "outputs": [
    {
     "data": {
      "text/plain": [
       "Image       1130\n",
       "Carousal     603\n",
       "Name: creative_type, dtype: int64"
      ]
     },
     "execution_count": 117,
     "metadata": {},
     "output_type": "execute_result"
    }
   ],
   "source": [
    "facebooks_ads_data.iloc[:, 4].value_counts()"
   ]
  },
  {
   "cell_type": "code",
   "execution_count": 118,
   "metadata": {},
   "outputs": [
    {
     "data": {
      "text/plain": [
       "<matplotlib.axes._subplots.AxesSubplot at 0x7fce9ab65f50>"
      ]
     },
     "execution_count": 118,
     "metadata": {},
     "output_type": "execute_result"
    },
    {
     "data": {
      "image/png": "[encoded data removed]",
      "text/plain": [
       "<Figure size 432x288 with 1 Axes>"
      ]
     },
     "metadata": {},
     "output_type": "display_data"
    }
   ],
   "source": [
    "sb.countplot(x = \"creative_type\", data = facebooks_ads_data)"
   ]
  },
  {
   "cell_type": "code",
   "execution_count": 119,
   "metadata": {},
   "outputs": [
    {
     "name": "stdout",
     "output_type": "stream",
     "text": [
      "Facebook Ads - Creative Type - Image    : 65.20%\n",
      "Facebook Ads - Creative Type - Carousal : 34.80%\n"
     ]
    }
   ],
   "source": [
    "print(\"Facebook Ads - Creative Type - Image    : {:.2f}%\".format((1130 / 1733)*100))\n",
    "print(\"Facebook Ads - Creative Type - Carousal : {:.2f}%\".format((603 / 1733)*100))"
   ]
  },
  {
   "cell_type": "code",
   "execution_count": 120,
   "metadata": {},
   "outputs": [
    {
     "data": {
      "text/html": [
       "<div>\n",
       "<style scoped>\n",
       "    .dataframe tbody tr th:only-of-type {\n",
       "        vertical-align: middle;\n",
       "    }\n",
       "\n",
       "    .dataframe tbody tr th {\n",
       "        vertical-align: top;\n",
       "    }\n",
       "\n",
       "    .dataframe thead th {\n",
       "        text-align: right;\n",
       "    }\n",
       "</style>\n",
       "<table border=\"1\" class=\"dataframe\">\n",
       "  <thead>\n",
       "    <tr style=\"text-align: right;\">\n",
       "      <th></th>\n",
       "      <th>Date</th>\n",
       "      <th>campaign_platform</th>\n",
       "      <th>subchannel</th>\n",
       "      <th>audience_type</th>\n",
       "      <th>creative_type</th>\n",
       "      <th>creative_name</th>\n",
       "      <th>device</th>\n",
       "      <th>age</th>\n",
       "      <th>spends</th>\n",
       "      <th>impressions</th>\n",
       "      <th>clicks</th>\n",
       "      <th>link_clicks</th>\n",
       "    </tr>\n",
       "  </thead>\n",
       "  <tbody>\n",
       "    <tr>\n",
       "      <th>0</th>\n",
       "      <td>2019-10-16</td>\n",
       "      <td>Google Ads_Search_Keywords</td>\n",
       "      <td>Brand</td>\n",
       "      <td>'-</td>\n",
       "      <td>'-</td>\n",
       "      <td>'-</td>\n",
       "      <td>Desktop</td>\n",
       "      <td>18-24</td>\n",
       "      <td>0.00</td>\n",
       "      <td>2</td>\n",
       "      <td>0</td>\n",
       "      <td>0.0</td>\n",
       "    </tr>\n",
       "    <tr>\n",
       "      <th>1</th>\n",
       "      <td>2019-10-16</td>\n",
       "      <td>Google Ads_Search_Keywords</td>\n",
       "      <td>Brand</td>\n",
       "      <td>'-</td>\n",
       "      <td>'-</td>\n",
       "      <td>'-</td>\n",
       "      <td>Desktop</td>\n",
       "      <td>25-34</td>\n",
       "      <td>0.00</td>\n",
       "      <td>5</td>\n",
       "      <td>0</td>\n",
       "      <td>0.0</td>\n",
       "    </tr>\n",
       "    <tr>\n",
       "      <th>2</th>\n",
       "      <td>2019-10-16</td>\n",
       "      <td>Google Ads_Search_Keywords</td>\n",
       "      <td>Brand</td>\n",
       "      <td>'-</td>\n",
       "      <td>'-</td>\n",
       "      <td>'-</td>\n",
       "      <td>Desktop</td>\n",
       "      <td>35-44</td>\n",
       "      <td>0.00</td>\n",
       "      <td>1</td>\n",
       "      <td>0</td>\n",
       "      <td>0.0</td>\n",
       "    </tr>\n",
       "    <tr>\n",
       "      <th>3</th>\n",
       "      <td>2019-10-16</td>\n",
       "      <td>Google Ads_Search_Keywords</td>\n",
       "      <td>Brand</td>\n",
       "      <td>'-</td>\n",
       "      <td>'-</td>\n",
       "      <td>'-</td>\n",
       "      <td>Desktop</td>\n",
       "      <td>Undetermined</td>\n",
       "      <td>14.63</td>\n",
       "      <td>5</td>\n",
       "      <td>3</td>\n",
       "      <td>0.0</td>\n",
       "    </tr>\n",
       "    <tr>\n",
       "      <th>4</th>\n",
       "      <td>2019-10-18</td>\n",
       "      <td>Google Ads_Search_Keywords</td>\n",
       "      <td>Brand</td>\n",
       "      <td>'-</td>\n",
       "      <td>'-</td>\n",
       "      <td>'-</td>\n",
       "      <td>Mobile</td>\n",
       "      <td>Undetermined</td>\n",
       "      <td>0.00</td>\n",
       "      <td>2</td>\n",
       "      <td>0</td>\n",
       "      <td>0.0</td>\n",
       "    </tr>\n",
       "  </tbody>\n",
       "</table>\n",
       "</div>"
      ],
      "text/plain": [
       "        Date           campaign_platform subchannel audience_type  \\\n",
       "0 2019-10-16  Google Ads_Search_Keywords      Brand            '-   \n",
       "1 2019-10-16  Google Ads_Search_Keywords      Brand            '-   \n",
       "2 2019-10-16  Google Ads_Search_Keywords      Brand            '-   \n",
       "3 2019-10-16  Google Ads_Search_Keywords      Brand            '-   \n",
       "4 2019-10-18  Google Ads_Search_Keywords      Brand            '-   \n",
       "\n",
       "  creative_type creative_name   device           age  spends  impressions  \\\n",
       "0            '-            '-  Desktop         18-24    0.00            2   \n",
       "1            '-            '-  Desktop         25-34    0.00            5   \n",
       "2            '-            '-  Desktop         35-44    0.00            1   \n",
       "3            '-            '-  Desktop  Undetermined   14.63            5   \n",
       "4            '-            '-   Mobile  Undetermined    0.00            2   \n",
       "\n",
       "   clicks  link_clicks  \n",
       "0       0          0.0  \n",
       "1       0          0.0  \n",
       "2       0          0.0  \n",
       "3       3          0.0  \n",
       "4       0          0.0  "
      ]
     },
     "execution_count": 120,
     "metadata": {},
     "output_type": "execute_result"
    }
   ],
   "source": [
    "marketing_campaigns.head()"
   ]
  },
  {
   "cell_type": "markdown",
   "metadata": {},
   "source": [
    "#### 10. creative_name"
   ]
  },
  {
   "cell_type": "code",
   "execution_count": 121,
   "metadata": {},
   "outputs": [
    {
     "data": {
      "text/plain": [
       "'-          15101\n",
       "Click         644\n",
       "Carousal      603\n",
       "Girl          486\n",
       "Name: creative_name, dtype: int64"
      ]
     },
     "execution_count": 121,
     "metadata": {},
     "output_type": "execute_result"
    }
   ],
   "source": [
    "marketing_campaigns.iloc[:, 5].value_counts()"
   ]
  },
  {
   "cell_type": "code",
   "execution_count": 123,
   "metadata": {},
   "outputs": [
    {
     "data": {
      "text/plain": [
       "Click       644\n",
       "Carousal    603\n",
       "Girl        486\n",
       "Name: creative_name, dtype: int64"
      ]
     },
     "execution_count": 123,
     "metadata": {},
     "output_type": "execute_result"
    }
   ],
   "source": [
    "facebooks_ads_data.iloc[:, 5].value_counts()"
   ]
  },
  {
   "cell_type": "code",
   "execution_count": 124,
   "metadata": {},
   "outputs": [
    {
     "data": {
      "text/plain": [
       "<matplotlib.axes._subplots.AxesSubplot at 0x7fce9ac91bd0>"
      ]
     },
     "execution_count": 124,
     "metadata": {},
     "output_type": "execute_result"
    },
    {
     "data": {
      "image/png": "[encoded data removed]",
      "text/plain": [
       "<Figure size 432x288 with 1 Axes>"
      ]
     },
     "metadata": {},
     "output_type": "display_data"
    }
   ],
   "source": [
    "sb.countplot(x = \"creative_name\", data = facebooks_ads_data)"
   ]
  },
  {
   "cell_type": "code",
   "execution_count": 125,
   "metadata": {},
   "outputs": [
    {
     "name": "stdout",
     "output_type": "stream",
     "text": [
      "Facebook Ads - Creative Type - Image - Click    : 37.16%\n",
      "Facebook Ads - Creative Type - Image - Girl     : 28.04%\n",
      "Facebook Ads - Creative Type - Carousal         : 34.80%\n"
     ]
    }
   ],
   "source": [
    "print(\"Facebook Ads - Creative Type - Image - Click    : {:.2f}%\".format((644 / 1733)*100))\n",
    "print(\"Facebook Ads - Creative Type - Image - Girl     : {:.2f}%\".format((486 / 1733)*100))\n",
    "print(\"Facebook Ads - Creative Type - Carousal         : {:.2f}%\".format((603 / 1733)*100))"
   ]
  },
  {
   "cell_type": "markdown",
   "metadata": {},
   "source": [
    "#### 11. Device"
   ]
  },
  {
   "cell_type": "code",
   "execution_count": 127,
   "metadata": {},
   "outputs": [
    {
     "data": {
      "text/plain": [
       "array(['Desktop', 'Mobile', 'Tablet', 'device'], dtype=object)"
      ]
     },
     "execution_count": 127,
     "metadata": {},
     "output_type": "execute_result"
    }
   ],
   "source": [
    "marketing_campaigns.iloc[:, 6].unique()"
   ]
  },
  {
   "cell_type": "code",
   "execution_count": 128,
   "metadata": {},
   "outputs": [
    {
     "data": {
      "text/plain": [
       "Mobile     7357\n",
       "Desktop    6318\n",
       "device     1733\n",
       "Tablet     1426\n",
       "Name: device, dtype: int64"
      ]
     },
     "execution_count": 128,
     "metadata": {},
     "output_type": "execute_result"
    }
   ],
   "source": [
    "marketing_campaigns.iloc[:, 6].value_counts()"
   ]
  },
  {
   "cell_type": "code",
   "execution_count": 129,
   "metadata": {},
   "outputs": [
    {
     "data": {
      "text/plain": [
       "device    1733\n",
       "Name: device, dtype: int64"
      ]
     },
     "execution_count": 129,
     "metadata": {},
     "output_type": "execute_result"
    }
   ],
   "source": [
    "facebooks_ads_data.iloc[:, 6].value_counts()"
   ]
  },
  {
   "cell_type": "code",
   "execution_count": 131,
   "metadata": {},
   "outputs": [
    {
     "data": {
      "text/plain": [
       "<matplotlib.axes._subplots.AxesSubplot at 0x7fce9acd9fd0>"
      ]
     },
     "execution_count": 131,
     "metadata": {},
     "output_type": "execute_result"
    },
    {
     "data": {
      "image/png": "[encoded data removed]",
      "text/plain": [
       "<Figure size 432x288 with 1 Axes>"
      ]
     },
     "metadata": {},
     "output_type": "display_data"
    }
   ],
   "source": [
    "sb.countplot(x = \"device\", data = marketing_campaigns)"
   ]
  },
  {
   "cell_type": "code",
   "execution_count": 132,
   "metadata": {},
   "outputs": [
    {
     "data": {
      "text/plain": [
       "<matplotlib.axes._subplots.AxesSubplot at 0x7fce9c4d33d0>"
      ]
     },
     "execution_count": 132,
     "metadata": {},
     "output_type": "execute_result"
    },
    {
     "data": {
      "image/png": "[encoded data removed]",
      "text/plain": [
       "<Figure size 432x288 with 1 Axes>"
      ]
     },
     "metadata": {},
     "output_type": "display_data"
    }
   ],
   "source": [
    "sb.countplot(x = \"device\", data = facebooks_ads_data)"
   ]
  },
  {
   "cell_type": "code",
   "execution_count": 133,
   "metadata": {},
   "outputs": [
    {
     "name": "stdout",
     "output_type": "stream",
     "text": [
      "Google Ads - device - Mobile    : 48.72%\n",
      "Google Ads - device - Desktop   : 41.84%\n",
      "Google Ads - device - Tablet    : 9.44%\n"
     ]
    }
   ],
   "source": [
    "print(\"Google Ads - device - Mobile    : {:.2f}%\".format((7357 / 15101)*100))\n",
    "print(\"Google Ads - device - Desktop   : {:.2f}%\".format((6318 / 15101)*100))\n",
    "print(\"Google Ads - device - Tablet    : {:.2f}%\".format((1426 / 15101)*100))"
   ]
  },
  {
   "cell_type": "code",
   "execution_count": 134,
   "metadata": {},
   "outputs": [
    {
     "data": {
      "text/html": [
       "<div>\n",
       "<style scoped>\n",
       "    .dataframe tbody tr th:only-of-type {\n",
       "        vertical-align: middle;\n",
       "    }\n",
       "\n",
       "    .dataframe tbody tr th {\n",
       "        vertical-align: top;\n",
       "    }\n",
       "\n",
       "    .dataframe thead th {\n",
       "        text-align: right;\n",
       "    }\n",
       "</style>\n",
       "<table border=\"1\" class=\"dataframe\">\n",
       "  <thead>\n",
       "    <tr style=\"text-align: right;\">\n",
       "      <th></th>\n",
       "      <th>Date</th>\n",
       "      <th>campaign_platform</th>\n",
       "      <th>subchannel</th>\n",
       "      <th>audience_type</th>\n",
       "      <th>creative_type</th>\n",
       "      <th>creative_name</th>\n",
       "      <th>device</th>\n",
       "      <th>age</th>\n",
       "      <th>spends</th>\n",
       "      <th>impressions</th>\n",
       "      <th>clicks</th>\n",
       "      <th>link_clicks</th>\n",
       "    </tr>\n",
       "  </thead>\n",
       "  <tbody>\n",
       "    <tr>\n",
       "      <th>0</th>\n",
       "      <td>2019-10-16</td>\n",
       "      <td>Google Ads_Search_Keywords</td>\n",
       "      <td>Brand</td>\n",
       "      <td>'-</td>\n",
       "      <td>'-</td>\n",
       "      <td>'-</td>\n",
       "      <td>Desktop</td>\n",
       "      <td>18-24</td>\n",
       "      <td>0.00</td>\n",
       "      <td>2</td>\n",
       "      <td>0</td>\n",
       "      <td>0.0</td>\n",
       "    </tr>\n",
       "    <tr>\n",
       "      <th>1</th>\n",
       "      <td>2019-10-16</td>\n",
       "      <td>Google Ads_Search_Keywords</td>\n",
       "      <td>Brand</td>\n",
       "      <td>'-</td>\n",
       "      <td>'-</td>\n",
       "      <td>'-</td>\n",
       "      <td>Desktop</td>\n",
       "      <td>25-34</td>\n",
       "      <td>0.00</td>\n",
       "      <td>5</td>\n",
       "      <td>0</td>\n",
       "      <td>0.0</td>\n",
       "    </tr>\n",
       "    <tr>\n",
       "      <th>2</th>\n",
       "      <td>2019-10-16</td>\n",
       "      <td>Google Ads_Search_Keywords</td>\n",
       "      <td>Brand</td>\n",
       "      <td>'-</td>\n",
       "      <td>'-</td>\n",
       "      <td>'-</td>\n",
       "      <td>Desktop</td>\n",
       "      <td>35-44</td>\n",
       "      <td>0.00</td>\n",
       "      <td>1</td>\n",
       "      <td>0</td>\n",
       "      <td>0.0</td>\n",
       "    </tr>\n",
       "    <tr>\n",
       "      <th>3</th>\n",
       "      <td>2019-10-16</td>\n",
       "      <td>Google Ads_Search_Keywords</td>\n",
       "      <td>Brand</td>\n",
       "      <td>'-</td>\n",
       "      <td>'-</td>\n",
       "      <td>'-</td>\n",
       "      <td>Desktop</td>\n",
       "      <td>Undetermined</td>\n",
       "      <td>14.63</td>\n",
       "      <td>5</td>\n",
       "      <td>3</td>\n",
       "      <td>0.0</td>\n",
       "    </tr>\n",
       "    <tr>\n",
       "      <th>4</th>\n",
       "      <td>2019-10-18</td>\n",
       "      <td>Google Ads_Search_Keywords</td>\n",
       "      <td>Brand</td>\n",
       "      <td>'-</td>\n",
       "      <td>'-</td>\n",
       "      <td>'-</td>\n",
       "      <td>Mobile</td>\n",
       "      <td>Undetermined</td>\n",
       "      <td>0.00</td>\n",
       "      <td>2</td>\n",
       "      <td>0</td>\n",
       "      <td>0.0</td>\n",
       "    </tr>\n",
       "  </tbody>\n",
       "</table>\n",
       "</div>"
      ],
      "text/plain": [
       "        Date           campaign_platform subchannel audience_type  \\\n",
       "0 2019-10-16  Google Ads_Search_Keywords      Brand            '-   \n",
       "1 2019-10-16  Google Ads_Search_Keywords      Brand            '-   \n",
       "2 2019-10-16  Google Ads_Search_Keywords      Brand            '-   \n",
       "3 2019-10-16  Google Ads_Search_Keywords      Brand            '-   \n",
       "4 2019-10-18  Google Ads_Search_Keywords      Brand            '-   \n",
       "\n",
       "  creative_type creative_name   device           age  spends  impressions  \\\n",
       "0            '-            '-  Desktop         18-24    0.00            2   \n",
       "1            '-            '-  Desktop         25-34    0.00            5   \n",
       "2            '-            '-  Desktop         35-44    0.00            1   \n",
       "3            '-            '-  Desktop  Undetermined   14.63            5   \n",
       "4            '-            '-   Mobile  Undetermined    0.00            2   \n",
       "\n",
       "   clicks  link_clicks  \n",
       "0       0          0.0  \n",
       "1       0          0.0  \n",
       "2       0          0.0  \n",
       "3       3          0.0  \n",
       "4       0          0.0  "
      ]
     },
     "execution_count": 134,
     "metadata": {},
     "output_type": "execute_result"
    }
   ],
   "source": [
    "marketing_campaigns.head()"
   ]
  },
  {
   "cell_type": "markdown",
   "metadata": {},
   "source": [
    "#### 12. Age"
   ]
  },
  {
   "cell_type": "code",
   "execution_count": 136,
   "metadata": {},
   "outputs": [
    {
     "data": {
      "text/plain": [
       "array(['18-24', '25-34', '35-44', 'Undetermined', '55-64', '65 or more',\n",
       "       '45-54'], dtype=object)"
      ]
     },
     "execution_count": 136,
     "metadata": {},
     "output_type": "execute_result"
    }
   ],
   "source": [
    "marketing_campaigns.iloc[:, 7].unique()"
   ]
  },
  {
   "cell_type": "code",
   "execution_count": 137,
   "metadata": {},
   "outputs": [
    {
     "data": {
      "text/plain": [
       "25-34           3097\n",
       "35-44           2865\n",
       "Undetermined    2586\n",
       "45-54           2499\n",
       "18-24           2472\n",
       "55-64           1757\n",
       "65 or more      1558\n",
       "Name: age, dtype: int64"
      ]
     },
     "execution_count": 137,
     "metadata": {},
     "output_type": "execute_result"
    }
   ],
   "source": [
    "marketing_campaigns.iloc[:, 7].value_counts()"
   ]
  },
  {
   "cell_type": "code",
   "execution_count": 140,
   "metadata": {},
   "outputs": [
    {
     "data": {
      "text/plain": [
       "<matplotlib.axes._subplots.AxesSubplot at 0x7fce9a9c9550>"
      ]
     },
     "execution_count": 140,
     "metadata": {},
     "output_type": "execute_result"
    },
    {
     "data": {
      "image/png": "[encoded data removed]",
      "text/plain": [
       "<Figure size 1152x432 with 1 Axes>"
      ]
     },
     "metadata": {},
     "output_type": "display_data"
    }
   ],
   "source": [
    "plt.figure(figsize=(16, 6))\n",
    "sb.countplot(x = \"age\", data = marketing_campaigns)"
   ]
  },
  {
   "cell_type": "code",
   "execution_count": 145,
   "metadata": {},
   "outputs": [
    {
     "data": {
      "text/plain": [
       "25-34           18.397291\n",
       "35-44           17.019128\n",
       "Undetermined    15.361768\n",
       "45-54           14.844957\n",
       "18-24           14.684567\n",
       "55-64           10.437210\n",
       "65 or more       9.255079\n",
       "Name: age, dtype: float64"
      ]
     },
     "execution_count": 145,
     "metadata": {},
     "output_type": "execute_result"
    }
   ],
   "source": [
    "Age = marketing_campaigns.iloc[:, 7].value_counts()\n",
    "Age = (Age / Age.sum()) * 100\n",
    "Age"
   ]
  },
  {
   "cell_type": "code",
   "execution_count": 166,
   "metadata": {},
   "outputs": [
    {
     "data": {
      "text/plain": [
       "[]"
      ]
     },
     "execution_count": 166,
     "metadata": {},
     "output_type": "execute_result"
    },
    {
     "data": {
      "image/png": "[encoded data removed]",
      "text/plain": [
       "<Figure size 432x432 with 1 Axes>"
      ]
     },
     "metadata": {},
     "output_type": "display_data"
    }
   ],
   "source": [
    "plt.figure(figsize=(6, 6))\n",
    "plt.pie(Age, labels=Age.index)\n",
    "plt.plot()"
   ]
  },
  {
   "cell_type": "code",
   "execution_count": 167,
   "metadata": {},
   "outputs": [
    {
     "data": {
      "text/html": [
       "<div>\n",
       "<style scoped>\n",
       "    .dataframe tbody tr th:only-of-type {\n",
       "        vertical-align: middle;\n",
       "    }\n",
       "\n",
       "    .dataframe tbody tr th {\n",
       "        vertical-align: top;\n",
       "    }\n",
       "\n",
       "    .dataframe thead th {\n",
       "        text-align: right;\n",
       "    }\n",
       "</style>\n",
       "<table border=\"1\" class=\"dataframe\">\n",
       "  <thead>\n",
       "    <tr style=\"text-align: right;\">\n",
       "      <th></th>\n",
       "      <th>Date</th>\n",
       "      <th>campaign_platform</th>\n",
       "      <th>subchannel</th>\n",
       "      <th>audience_type</th>\n",
       "      <th>creative_type</th>\n",
       "      <th>creative_name</th>\n",
       "      <th>device</th>\n",
       "      <th>age</th>\n",
       "      <th>spends</th>\n",
       "      <th>impressions</th>\n",
       "      <th>clicks</th>\n",
       "      <th>link_clicks</th>\n",
       "    </tr>\n",
       "  </thead>\n",
       "  <tbody>\n",
       "    <tr>\n",
       "      <th>0</th>\n",
       "      <td>2019-10-16</td>\n",
       "      <td>Google Ads_Search_Keywords</td>\n",
       "      <td>Brand</td>\n",
       "      <td>'-</td>\n",
       "      <td>'-</td>\n",
       "      <td>'-</td>\n",
       "      <td>Desktop</td>\n",
       "      <td>18-24</td>\n",
       "      <td>0.00</td>\n",
       "      <td>2</td>\n",
       "      <td>0</td>\n",
       "      <td>0.0</td>\n",
       "    </tr>\n",
       "    <tr>\n",
       "      <th>1</th>\n",
       "      <td>2019-10-16</td>\n",
       "      <td>Google Ads_Search_Keywords</td>\n",
       "      <td>Brand</td>\n",
       "      <td>'-</td>\n",
       "      <td>'-</td>\n",
       "      <td>'-</td>\n",
       "      <td>Desktop</td>\n",
       "      <td>25-34</td>\n",
       "      <td>0.00</td>\n",
       "      <td>5</td>\n",
       "      <td>0</td>\n",
       "      <td>0.0</td>\n",
       "    </tr>\n",
       "    <tr>\n",
       "      <th>2</th>\n",
       "      <td>2019-10-16</td>\n",
       "      <td>Google Ads_Search_Keywords</td>\n",
       "      <td>Brand</td>\n",
       "      <td>'-</td>\n",
       "      <td>'-</td>\n",
       "      <td>'-</td>\n",
       "      <td>Desktop</td>\n",
       "      <td>35-44</td>\n",
       "      <td>0.00</td>\n",
       "      <td>1</td>\n",
       "      <td>0</td>\n",
       "      <td>0.0</td>\n",
       "    </tr>\n",
       "    <tr>\n",
       "      <th>3</th>\n",
       "      <td>2019-10-16</td>\n",
       "      <td>Google Ads_Search_Keywords</td>\n",
       "      <td>Brand</td>\n",
       "      <td>'-</td>\n",
       "      <td>'-</td>\n",
       "      <td>'-</td>\n",
       "      <td>Desktop</td>\n",
       "      <td>Undetermined</td>\n",
       "      <td>14.63</td>\n",
       "      <td>5</td>\n",
       "      <td>3</td>\n",
       "      <td>0.0</td>\n",
       "    </tr>\n",
       "    <tr>\n",
       "      <th>4</th>\n",
       "      <td>2019-10-18</td>\n",
       "      <td>Google Ads_Search_Keywords</td>\n",
       "      <td>Brand</td>\n",
       "      <td>'-</td>\n",
       "      <td>'-</td>\n",
       "      <td>'-</td>\n",
       "      <td>Mobile</td>\n",
       "      <td>Undetermined</td>\n",
       "      <td>0.00</td>\n",
       "      <td>2</td>\n",
       "      <td>0</td>\n",
       "      <td>0.0</td>\n",
       "    </tr>\n",
       "  </tbody>\n",
       "</table>\n",
       "</div>"
      ],
      "text/plain": [
       "        Date           campaign_platform subchannel audience_type  \\\n",
       "0 2019-10-16  Google Ads_Search_Keywords      Brand            '-   \n",
       "1 2019-10-16  Google Ads_Search_Keywords      Brand            '-   \n",
       "2 2019-10-16  Google Ads_Search_Keywords      Brand            '-   \n",
       "3 2019-10-16  Google Ads_Search_Keywords      Brand            '-   \n",
       "4 2019-10-18  Google Ads_Search_Keywords      Brand            '-   \n",
       "\n",
       "  creative_type creative_name   device           age  spends  impressions  \\\n",
       "0            '-            '-  Desktop         18-24    0.00            2   \n",
       "1            '-            '-  Desktop         25-34    0.00            5   \n",
       "2            '-            '-  Desktop         35-44    0.00            1   \n",
       "3            '-            '-  Desktop  Undetermined   14.63            5   \n",
       "4            '-            '-   Mobile  Undetermined    0.00            2   \n",
       "\n",
       "   clicks  link_clicks  \n",
       "0       0          0.0  \n",
       "1       0          0.0  \n",
       "2       0          0.0  \n",
       "3       3          0.0  \n",
       "4       0          0.0  "
      ]
     },
     "execution_count": 167,
     "metadata": {},
     "output_type": "execute_result"
    }
   ],
   "source": [
    "marketing_campaigns.head()"
   ]
  },
  {
   "cell_type": "markdown",
   "metadata": {},
   "source": [
    "#### 13. Spends"
   ]
  },
  {
   "cell_type": "code",
   "execution_count": 169,
   "metadata": {},
   "outputs": [
    {
     "data": {
      "text/plain": [
       "array([ 0.  , 14.63,  1.07, ..., 86.39, 14.76, 27.83])"
      ]
     },
     "execution_count": 169,
     "metadata": {},
     "output_type": "execute_result"
    }
   ],
   "source": [
    "marketing_campaigns.iloc[:, 8].unique()"
   ]
  },
  {
   "cell_type": "code",
   "execution_count": 170,
   "metadata": {},
   "outputs": [
    {
     "data": {
      "text/plain": [
       "0.00       4104\n",
       "0.43         52\n",
       "0.46         42\n",
       "1.42         33\n",
       "1.43         32\n",
       "           ... \n",
       "148.54        1\n",
       "5341.68       1\n",
       "574.01        1\n",
       "425.76        1\n",
       "1031.13       1\n",
       "Name: spends, Length: 9087, dtype: int64"
      ]
     },
     "execution_count": 170,
     "metadata": {},
     "output_type": "execute_result"
    }
   ],
   "source": [
    "marketing_campaigns.iloc[:, 8].value_counts()"
   ]
  },
  {
   "cell_type": "code",
   "execution_count": 175,
   "metadata": {},
   "outputs": [
    {
     "data": {
      "text/plain": [
       "0.0"
      ]
     },
     "execution_count": 175,
     "metadata": {},
     "output_type": "execute_result"
    }
   ],
   "source": [
    "sorted(marketing_campaigns.iloc[:, 8].value_counts().index)[0]"
   ]
  },
  {
   "cell_type": "code",
   "execution_count": 176,
   "metadata": {},
   "outputs": [
    {
     "data": {
      "text/plain": [
       "9221.96"
      ]
     },
     "execution_count": 176,
     "metadata": {},
     "output_type": "execute_result"
    }
   ],
   "source": [
    "sorted(marketing_campaigns.iloc[:, 8].value_counts().index)[-1]"
   ]
  },
  {
   "cell_type": "code",
   "execution_count": 181,
   "metadata": {},
   "outputs": [
    {
     "data": {
      "text/plain": [
       "1"
      ]
     },
     "execution_count": 181,
     "metadata": {},
     "output_type": "execute_result"
    }
   ],
   "source": [
    "marketing_campaigns.iloc[:, 8].value_counts()[9221.96]"
   ]
  },
  {
   "cell_type": "code",
   "execution_count": 197,
   "metadata": {},
   "outputs": [
    {
     "data": {
      "text/html": [
       "<div>\n",
       "<style scoped>\n",
       "    .dataframe tbody tr th:only-of-type {\n",
       "        vertical-align: middle;\n",
       "    }\n",
       "\n",
       "    .dataframe tbody tr th {\n",
       "        vertical-align: top;\n",
       "    }\n",
       "\n",
       "    .dataframe thead th {\n",
       "        text-align: right;\n",
       "    }\n",
       "</style>\n",
       "<table border=\"1\" class=\"dataframe\">\n",
       "  <thead>\n",
       "    <tr style=\"text-align: right;\">\n",
       "      <th></th>\n",
       "      <th>Date</th>\n",
       "      <th>campaign_platform</th>\n",
       "      <th>subchannel</th>\n",
       "      <th>audience_type</th>\n",
       "      <th>creative_type</th>\n",
       "      <th>creative_name</th>\n",
       "      <th>device</th>\n",
       "      <th>age</th>\n",
       "      <th>spends</th>\n",
       "      <th>impressions</th>\n",
       "      <th>clicks</th>\n",
       "      <th>link_clicks</th>\n",
       "    </tr>\n",
       "  </thead>\n",
       "  <tbody>\n",
       "    <tr>\n",
       "      <th>0</th>\n",
       "      <td>2019-10-16</td>\n",
       "      <td>Google Ads_Search_Keywords</td>\n",
       "      <td>Brand</td>\n",
       "      <td>'-</td>\n",
       "      <td>'-</td>\n",
       "      <td>'-</td>\n",
       "      <td>Desktop</td>\n",
       "      <td>18-24</td>\n",
       "      <td>0.00</td>\n",
       "      <td>2</td>\n",
       "      <td>0</td>\n",
       "      <td>0.0</td>\n",
       "    </tr>\n",
       "    <tr>\n",
       "      <th>1</th>\n",
       "      <td>2019-10-16</td>\n",
       "      <td>Google Ads_Search_Keywords</td>\n",
       "      <td>Brand</td>\n",
       "      <td>'-</td>\n",
       "      <td>'-</td>\n",
       "      <td>'-</td>\n",
       "      <td>Desktop</td>\n",
       "      <td>25-34</td>\n",
       "      <td>0.00</td>\n",
       "      <td>5</td>\n",
       "      <td>0</td>\n",
       "      <td>0.0</td>\n",
       "    </tr>\n",
       "    <tr>\n",
       "      <th>2</th>\n",
       "      <td>2019-10-16</td>\n",
       "      <td>Google Ads_Search_Keywords</td>\n",
       "      <td>Brand</td>\n",
       "      <td>'-</td>\n",
       "      <td>'-</td>\n",
       "      <td>'-</td>\n",
       "      <td>Desktop</td>\n",
       "      <td>35-44</td>\n",
       "      <td>0.00</td>\n",
       "      <td>1</td>\n",
       "      <td>0</td>\n",
       "      <td>0.0</td>\n",
       "    </tr>\n",
       "    <tr>\n",
       "      <th>3</th>\n",
       "      <td>2019-10-16</td>\n",
       "      <td>Google Ads_Search_Keywords</td>\n",
       "      <td>Brand</td>\n",
       "      <td>'-</td>\n",
       "      <td>'-</td>\n",
       "      <td>'-</td>\n",
       "      <td>Desktop</td>\n",
       "      <td>Undetermined</td>\n",
       "      <td>14.63</td>\n",
       "      <td>5</td>\n",
       "      <td>3</td>\n",
       "      <td>0.0</td>\n",
       "    </tr>\n",
       "    <tr>\n",
       "      <th>4</th>\n",
       "      <td>2019-10-18</td>\n",
       "      <td>Google Ads_Search_Keywords</td>\n",
       "      <td>Brand</td>\n",
       "      <td>'-</td>\n",
       "      <td>'-</td>\n",
       "      <td>'-</td>\n",
       "      <td>Mobile</td>\n",
       "      <td>Undetermined</td>\n",
       "      <td>0.00</td>\n",
       "      <td>2</td>\n",
       "      <td>0</td>\n",
       "      <td>0.0</td>\n",
       "    </tr>\n",
       "  </tbody>\n",
       "</table>\n",
       "</div>"
      ],
      "text/plain": [
       "        Date           campaign_platform subchannel audience_type  \\\n",
       "0 2019-10-16  Google Ads_Search_Keywords      Brand            '-   \n",
       "1 2019-10-16  Google Ads_Search_Keywords      Brand            '-   \n",
       "2 2019-10-16  Google Ads_Search_Keywords      Brand            '-   \n",
       "3 2019-10-16  Google Ads_Search_Keywords      Brand            '-   \n",
       "4 2019-10-18  Google Ads_Search_Keywords      Brand            '-   \n",
       "\n",
       "  creative_type creative_name   device           age  spends  impressions  \\\n",
       "0            '-            '-  Desktop         18-24    0.00            2   \n",
       "1            '-            '-  Desktop         25-34    0.00            5   \n",
       "2            '-            '-  Desktop         35-44    0.00            1   \n",
       "3            '-            '-  Desktop  Undetermined   14.63            5   \n",
       "4            '-            '-   Mobile  Undetermined    0.00            2   \n",
       "\n",
       "   clicks  link_clicks  \n",
       "0       0          0.0  \n",
       "1       0          0.0  \n",
       "2       0          0.0  \n",
       "3       3          0.0  \n",
       "4       0          0.0  "
      ]
     },
     "execution_count": 197,
     "metadata": {},
     "output_type": "execute_result"
    }
   ],
   "source": [
    "visitors_spended_less_than_two_mins = marketing_campaigns[marketing_campaigns[\"spends\"] <= 120.0]\n",
    "visitors_spended_less_than_two_mins.head()"
   ]
  },
  {
   "cell_type": "code",
   "execution_count": 198,
   "metadata": {},
   "outputs": [
    {
     "data": {
      "text/html": [
       "<div>\n",
       "<style scoped>\n",
       "    .dataframe tbody tr th:only-of-type {\n",
       "        vertical-align: middle;\n",
       "    }\n",
       "\n",
       "    .dataframe tbody tr th {\n",
       "        vertical-align: top;\n",
       "    }\n",
       "\n",
       "    .dataframe thead th {\n",
       "        text-align: right;\n",
       "    }\n",
       "</style>\n",
       "<table border=\"1\" class=\"dataframe\">\n",
       "  <thead>\n",
       "    <tr style=\"text-align: right;\">\n",
       "      <th></th>\n",
       "      <th>Date</th>\n",
       "      <th>campaign_platform</th>\n",
       "      <th>subchannel</th>\n",
       "      <th>audience_type</th>\n",
       "      <th>creative_type</th>\n",
       "      <th>creative_name</th>\n",
       "      <th>device</th>\n",
       "      <th>age</th>\n",
       "      <th>spends</th>\n",
       "      <th>impressions</th>\n",
       "      <th>clicks</th>\n",
       "      <th>link_clicks</th>\n",
       "    </tr>\n",
       "  </thead>\n",
       "  <tbody>\n",
       "    <tr>\n",
       "      <th>14</th>\n",
       "      <td>2019-10-18</td>\n",
       "      <td>Google Ads_Search_Keywords</td>\n",
       "      <td>Brand</td>\n",
       "      <td>'-</td>\n",
       "      <td>'-</td>\n",
       "      <td>'-</td>\n",
       "      <td>Desktop</td>\n",
       "      <td>35-44</td>\n",
       "      <td>331.70</td>\n",
       "      <td>36</td>\n",
       "      <td>10</td>\n",
       "      <td>0.0</td>\n",
       "    </tr>\n",
       "    <tr>\n",
       "      <th>15</th>\n",
       "      <td>2019-10-18</td>\n",
       "      <td>Google Ads_Search_Keywords</td>\n",
       "      <td>Brand</td>\n",
       "      <td>'-</td>\n",
       "      <td>'-</td>\n",
       "      <td>'-</td>\n",
       "      <td>Desktop</td>\n",
       "      <td>25-34</td>\n",
       "      <td>285.38</td>\n",
       "      <td>61</td>\n",
       "      <td>10</td>\n",
       "      <td>0.0</td>\n",
       "    </tr>\n",
       "    <tr>\n",
       "      <th>17</th>\n",
       "      <td>2019-10-18</td>\n",
       "      <td>Google Ads_Search_Keywords</td>\n",
       "      <td>Brand</td>\n",
       "      <td>'-</td>\n",
       "      <td>'-</td>\n",
       "      <td>'-</td>\n",
       "      <td>Desktop</td>\n",
       "      <td>Undetermined</td>\n",
       "      <td>130.65</td>\n",
       "      <td>33</td>\n",
       "      <td>5</td>\n",
       "      <td>0.0</td>\n",
       "    </tr>\n",
       "    <tr>\n",
       "      <th>22</th>\n",
       "      <td>2019-10-19</td>\n",
       "      <td>Google Ads_Search_Keywords</td>\n",
       "      <td>Brand</td>\n",
       "      <td>'-</td>\n",
       "      <td>'-</td>\n",
       "      <td>'-</td>\n",
       "      <td>Mobile</td>\n",
       "      <td>25-34</td>\n",
       "      <td>197.30</td>\n",
       "      <td>8</td>\n",
       "      <td>5</td>\n",
       "      <td>0.0</td>\n",
       "    </tr>\n",
       "    <tr>\n",
       "      <th>28</th>\n",
       "      <td>2019-10-19</td>\n",
       "      <td>Google Ads_Search_Keywords</td>\n",
       "      <td>Brand</td>\n",
       "      <td>'-</td>\n",
       "      <td>'-</td>\n",
       "      <td>'-</td>\n",
       "      <td>Desktop</td>\n",
       "      <td>Undetermined</td>\n",
       "      <td>200.14</td>\n",
       "      <td>19</td>\n",
       "      <td>5</td>\n",
       "      <td>0.0</td>\n",
       "    </tr>\n",
       "  </tbody>\n",
       "</table>\n",
       "</div>"
      ],
      "text/plain": [
       "         Date           campaign_platform subchannel audience_type  \\\n",
       "14 2019-10-18  Google Ads_Search_Keywords      Brand            '-   \n",
       "15 2019-10-18  Google Ads_Search_Keywords      Brand            '-   \n",
       "17 2019-10-18  Google Ads_Search_Keywords      Brand            '-   \n",
       "22 2019-10-19  Google Ads_Search_Keywords      Brand            '-   \n",
       "28 2019-10-19  Google Ads_Search_Keywords      Brand            '-   \n",
       "\n",
       "   creative_type creative_name   device           age  spends  impressions  \\\n",
       "14            '-            '-  Desktop         35-44  331.70           36   \n",
       "15            '-            '-  Desktop         25-34  285.38           61   \n",
       "17            '-            '-  Desktop  Undetermined  130.65           33   \n",
       "22            '-            '-   Mobile         25-34  197.30            8   \n",
       "28            '-            '-  Desktop  Undetermined  200.14           19   \n",
       "\n",
       "    clicks  link_clicks  \n",
       "14      10          0.0  \n",
       "15      10          0.0  \n",
       "17       5          0.0  \n",
       "22       5          0.0  \n",
       "28       5          0.0  "
      ]
     },
     "execution_count": 198,
     "metadata": {},
     "output_type": "execute_result"
    }
   ],
   "source": [
    "visitors_spended_more_than_two_mins = marketing_campaigns[marketing_campaigns[\"spends\"] > 120.0]\n",
    "visitors_spended_more_than_two_mins.head()"
   ]
  },
  {
   "cell_type": "code",
   "execution_count": 200,
   "metadata": {},
   "outputs": [
    {
     "data": {
      "text/plain": [
       "<matplotlib.axes._subplots.AxesSubplot at 0x7fce95d54050>"
      ]
     },
     "execution_count": 200,
     "metadata": {},
     "output_type": "execute_result"
    },
    {
     "data": {
      "image/png": "[encoded data removed]",
      "text/plain": [
       "<Figure size 1152x432 with 1 Axes>"
      ]
     },
     "metadata": {},
     "output_type": "display_data"
    }
   ],
   "source": [
    "plt.figure(figsize=(16, 6))\n",
    "sb.distplot(visitors_spended_less_than_two_mins['spends'])"
   ]
  },
  {
   "cell_type": "code",
   "execution_count": 201,
   "metadata": {},
   "outputs": [
    {
     "data": {
      "text/plain": [
       "<matplotlib.axes._subplots.AxesSubplot at 0x7fce95c342d0>"
      ]
     },
     "execution_count": 201,
     "metadata": {},
     "output_type": "execute_result"
    },
    {
     "data": {
      "image/png": "[encoded data removed]",
      "text/plain": [
       "<Figure size 1152x432 with 1 Axes>"
      ]
     },
     "metadata": {},
     "output_type": "display_data"
    }
   ],
   "source": [
    "plt.figure(figsize=(16, 6))\n",
    "sb.distplot(visitors_spended_more_than_two_mins['spends'])"
   ]
  },
  {
   "cell_type": "markdown",
   "metadata": {},
   "source": [
    "Categorizing the visitors based on spending time:\n",
    "    - 0 : Not spended\n",
    "    - 1 : 0 - 2 mins\n",
    "    - 2 : 2 - 5 mins\n",
    "    - 3 : 5 - 10 mins\n",
    "    - 4 : 10 - 30 mins\n",
    "    - 5 : 30 - 60 mins\n",
    "    - 6 : 60 - 120 mins\n",
    "    - 7 : > 120 mins"
   ]
  },
  {
   "cell_type": "code",
   "execution_count": 202,
   "metadata": {},
   "outputs": [],
   "source": [
    "def categorize_visitors_by_spending_time(seconds):\n",
    "    if seconds == 0:\n",
    "        return 0\n",
    "    elif seconds > 0 and seconds <= 2*60:\n",
    "        return 1\n",
    "    elif seconds > 2*60 and seconds <= 5*60:\n",
    "        return 2\n",
    "    elif seconds > 5*60 and seconds <= 10*60:\n",
    "        return 3\n",
    "    elif seconds > 10*60 and seconds <= 30*60:\n",
    "        return 4\n",
    "    elif seconds > 30*60 and seconds <= 60*60:\n",
    "        return 5\n",
    "    elif seconds > 60*60 and seconds <= 120*60:\n",
    "        return 6\n",
    "    else:\n",
    "        return 7"
   ]
  },
  {
   "cell_type": "code",
   "execution_count": 206,
   "metadata": {},
   "outputs": [],
   "source": [
    "marketing_campaigns.iloc[:, 8] = marketing_campaigns.iloc[:, 8].apply(lambda seconds: categorize_visitors_by_spending_time(seconds))"
   ]
  },
  {
   "cell_type": "code",
   "execution_count": 207,
   "metadata": {},
   "outputs": [
    {
     "data": {
      "text/plain": [
       "<matplotlib.axes._subplots.AxesSubplot at 0x7fce95a88510>"
      ]
     },
     "execution_count": 207,
     "metadata": {},
     "output_type": "execute_result"
    },
    {
     "data": {
      "image/png": "[encoded data removed]",
      "text/plain": [
       "<Figure size 432x288 with 1 Axes>"
      ]
     },
     "metadata": {},
     "output_type": "display_data"
    }
   ],
   "source": [
    "sb.countplot(x = \"spends\", data = marketing_campaigns)"
   ]
  },
  {
   "cell_type": "code",
   "execution_count": 213,
   "metadata": {},
   "outputs": [
    {
     "data": {
      "text/plain": [
       "[]"
      ]
     },
     "execution_count": 213,
     "metadata": {},
     "output_type": "execute_result"
    },
    {
     "data": {
      "image/png": "[encoded data removed]",
      "text/plain": [
       "<Figure size 720x720 with 1 Axes>"
      ]
     },
     "metadata": {},
     "output_type": "display_data"
    }
   ],
   "source": [
    "plt.figure(figsize=(10, 10))\n",
    "spends = marketing_campaigns['spends'].value_counts()\n",
    "plt.pie(spends, labels = spends.index)\n",
    "plt.plot()"
   ]
  },
  {
   "cell_type": "code",
   "execution_count": 214,
   "metadata": {},
   "outputs": [
    {
     "data": {
      "text/html": [
       "<div>\n",
       "<style scoped>\n",
       "    .dataframe tbody tr th:only-of-type {\n",
       "        vertical-align: middle;\n",
       "    }\n",
       "\n",
       "    .dataframe tbody tr th {\n",
       "        vertical-align: top;\n",
       "    }\n",
       "\n",
       "    .dataframe thead th {\n",
       "        text-align: right;\n",
       "    }\n",
       "</style>\n",
       "<table border=\"1\" class=\"dataframe\">\n",
       "  <thead>\n",
       "    <tr style=\"text-align: right;\">\n",
       "      <th></th>\n",
       "      <th>Date</th>\n",
       "      <th>campaign_platform</th>\n",
       "      <th>subchannel</th>\n",
       "      <th>audience_type</th>\n",
       "      <th>creative_type</th>\n",
       "      <th>creative_name</th>\n",
       "      <th>device</th>\n",
       "      <th>age</th>\n",
       "      <th>spends</th>\n",
       "      <th>impressions</th>\n",
       "      <th>clicks</th>\n",
       "      <th>link_clicks</th>\n",
       "    </tr>\n",
       "  </thead>\n",
       "  <tbody>\n",
       "    <tr>\n",
       "      <th>0</th>\n",
       "      <td>2019-10-16</td>\n",
       "      <td>Google Ads_Search_Keywords</td>\n",
       "      <td>Brand</td>\n",
       "      <td>'-</td>\n",
       "      <td>'-</td>\n",
       "      <td>'-</td>\n",
       "      <td>Desktop</td>\n",
       "      <td>18-24</td>\n",
       "      <td>0</td>\n",
       "      <td>2</td>\n",
       "      <td>0</td>\n",
       "      <td>0.0</td>\n",
       "    </tr>\n",
       "    <tr>\n",
       "      <th>1</th>\n",
       "      <td>2019-10-16</td>\n",
       "      <td>Google Ads_Search_Keywords</td>\n",
       "      <td>Brand</td>\n",
       "      <td>'-</td>\n",
       "      <td>'-</td>\n",
       "      <td>'-</td>\n",
       "      <td>Desktop</td>\n",
       "      <td>25-34</td>\n",
       "      <td>0</td>\n",
       "      <td>5</td>\n",
       "      <td>0</td>\n",
       "      <td>0.0</td>\n",
       "    </tr>\n",
       "    <tr>\n",
       "      <th>2</th>\n",
       "      <td>2019-10-16</td>\n",
       "      <td>Google Ads_Search_Keywords</td>\n",
       "      <td>Brand</td>\n",
       "      <td>'-</td>\n",
       "      <td>'-</td>\n",
       "      <td>'-</td>\n",
       "      <td>Desktop</td>\n",
       "      <td>35-44</td>\n",
       "      <td>0</td>\n",
       "      <td>1</td>\n",
       "      <td>0</td>\n",
       "      <td>0.0</td>\n",
       "    </tr>\n",
       "    <tr>\n",
       "      <th>3</th>\n",
       "      <td>2019-10-16</td>\n",
       "      <td>Google Ads_Search_Keywords</td>\n",
       "      <td>Brand</td>\n",
       "      <td>'-</td>\n",
       "      <td>'-</td>\n",
       "      <td>'-</td>\n",
       "      <td>Desktop</td>\n",
       "      <td>Undetermined</td>\n",
       "      <td>1</td>\n",
       "      <td>5</td>\n",
       "      <td>3</td>\n",
       "      <td>0.0</td>\n",
       "    </tr>\n",
       "    <tr>\n",
       "      <th>4</th>\n",
       "      <td>2019-10-18</td>\n",
       "      <td>Google Ads_Search_Keywords</td>\n",
       "      <td>Brand</td>\n",
       "      <td>'-</td>\n",
       "      <td>'-</td>\n",
       "      <td>'-</td>\n",
       "      <td>Mobile</td>\n",
       "      <td>Undetermined</td>\n",
       "      <td>0</td>\n",
       "      <td>2</td>\n",
       "      <td>0</td>\n",
       "      <td>0.0</td>\n",
       "    </tr>\n",
       "  </tbody>\n",
       "</table>\n",
       "</div>"
      ],
      "text/plain": [
       "        Date           campaign_platform subchannel audience_type  \\\n",
       "0 2019-10-16  Google Ads_Search_Keywords      Brand            '-   \n",
       "1 2019-10-16  Google Ads_Search_Keywords      Brand            '-   \n",
       "2 2019-10-16  Google Ads_Search_Keywords      Brand            '-   \n",
       "3 2019-10-16  Google Ads_Search_Keywords      Brand            '-   \n",
       "4 2019-10-18  Google Ads_Search_Keywords      Brand            '-   \n",
       "\n",
       "  creative_type creative_name   device           age  spends  impressions  \\\n",
       "0            '-            '-  Desktop         18-24       0            2   \n",
       "1            '-            '-  Desktop         25-34       0            5   \n",
       "2            '-            '-  Desktop         35-44       0            1   \n",
       "3            '-            '-  Desktop  Undetermined       1            5   \n",
       "4            '-            '-   Mobile  Undetermined       0            2   \n",
       "\n",
       "   clicks  link_clicks  \n",
       "0       0          0.0  \n",
       "1       0          0.0  \n",
       "2       0          0.0  \n",
       "3       3          0.0  \n",
       "4       0          0.0  "
      ]
     },
     "execution_count": 214,
     "metadata": {},
     "output_type": "execute_result"
    }
   ],
   "source": [
    "marketing_campaigns.head()"
   ]
  },
  {
   "cell_type": "markdown",
   "metadata": {},
   "source": [
    "#### 13. Impressions"
   ]
  },
  {
   "cell_type": "code",
   "execution_count": 219,
   "metadata": {},
   "outputs": [
    {
     "data": {
      "text/plain": [
       "1        2164\n",
       "2        1216\n",
       "3         907\n",
       "4         715\n",
       "5         627\n",
       "         ... \n",
       "936         1\n",
       "920         1\n",
       "39819       1\n",
       "2793        1\n",
       "11234       1\n",
       "Name: impressions, Length: 1188, dtype: int64"
      ]
     },
     "execution_count": 219,
     "metadata": {},
     "output_type": "execute_result"
    }
   ],
   "source": [
    "marketing_campaigns.iloc[:, 9].value_counts()"
   ]
  },
  {
   "cell_type": "code",
   "execution_count": 220,
   "metadata": {},
   "outputs": [
    {
     "data": {
      "text/plain": [
       "2        47\n",
       "1        44\n",
       "3        40\n",
       "5        29\n",
       "7        29\n",
       "         ..\n",
       "1034      1\n",
       "1032      1\n",
       "41989     1\n",
       "3074      1\n",
       "645       1\n",
       "Name: impressions, Length: 920, dtype: int64"
      ]
     },
     "execution_count": 220,
     "metadata": {},
     "output_type": "execute_result"
    }
   ],
   "source": [
    "facebooks_ads_data.iloc[:, 9].value_counts()"
   ]
  },
  {
   "cell_type": "code",
   "execution_count": 226,
   "metadata": {},
   "outputs": [
    {
     "data": {
      "text/plain": [
       "<matplotlib.axes._subplots.AxesSubplot at 0x7fce8f180a50>"
      ]
     },
     "execution_count": 226,
     "metadata": {},
     "output_type": "execute_result"
    },
    {
     "data": {
      "image/png": "[encoded data removed]",
      "text/plain": [
       "<Figure size 432x288 with 1 Axes>"
      ]
     },
     "metadata": {},
     "output_type": "display_data"
    }
   ],
   "source": [
    "sb.distplot(marketing_campaigns[marketing_campaigns['impressions'] > 1000 ]['impressions'] )"
   ]
  },
  {
   "cell_type": "markdown",
   "metadata": {},
   "source": [
    "Categorizing visitors based on impressions\n",
    "    \n",
    "    - 0       : 0\n",
    "    - 0 - 20  : 1\n",
    "    - 20 - 50 : 2\n",
    "    - 50 - 200: 3\n",
    "    - > 200   : 4"
   ]
  },
  {
   "cell_type": "code",
   "execution_count": 228,
   "metadata": {},
   "outputs": [],
   "source": [
    "def categoritzing_visitors_based_on_impressions(impressions):\n",
    "    if impressions == 0:\n",
    "        return 0\n",
    "    elif impressions > 0 and impressions <= 20:\n",
    "        return 1\n",
    "    elif impressions > 20 and impressions <= 50:\n",
    "        return 2\n",
    "    elif impressions > 50 and impressions <= 200:\n",
    "        return 3\n",
    "    else:\n",
    "        return 4"
   ]
  },
  {
   "cell_type": "code",
   "execution_count": 229,
   "metadata": {},
   "outputs": [],
   "source": [
    "marketing_campaigns.iloc[:, 9] = marketing_campaigns.iloc[:, 9].apply(lambda impressions: categoritzing_visitors_based_on_impressions(impressions))"
   ]
  },
  {
   "cell_type": "code",
   "execution_count": 231,
   "metadata": {},
   "outputs": [
    {
     "data": {
      "text/plain": [
       "<matplotlib.axes._subplots.AxesSubplot at 0x7fce8efa1290>"
      ]
     },
     "execution_count": 231,
     "metadata": {},
     "output_type": "execute_result"
    },
    {
     "data": {
      "image/png": "[encoded data removed]",
      "text/plain": [
       "<Figure size 432x288 with 1 Axes>"
      ]
     },
     "metadata": {},
     "output_type": "display_data"
    }
   ],
   "source": [
    "sb.countplot(marketing_campaigns.iloc[:, 9])"
   ]
  },
  {
   "cell_type": "code",
   "execution_count": 232,
   "metadata": {},
   "outputs": [
    {
     "data": {
      "text/plain": [
       "1    9800\n",
       "3    2843\n",
       "2    2320\n",
       "4    1867\n",
       "0       4\n",
       "Name: impressions, dtype: int64"
      ]
     },
     "execution_count": 232,
     "metadata": {},
     "output_type": "execute_result"
    }
   ],
   "source": [
    "marketing_campaigns.iloc[:, 9].value_counts()"
   ]
  },
  {
   "cell_type": "code",
   "execution_count": 233,
   "metadata": {},
   "outputs": [
    {
     "data": {
      "text/html": [
       "<div>\n",
       "<style scoped>\n",
       "    .dataframe tbody tr th:only-of-type {\n",
       "        vertical-align: middle;\n",
       "    }\n",
       "\n",
       "    .dataframe tbody tr th {\n",
       "        vertical-align: top;\n",
       "    }\n",
       "\n",
       "    .dataframe thead th {\n",
       "        text-align: right;\n",
       "    }\n",
       "</style>\n",
       "<table border=\"1\" class=\"dataframe\">\n",
       "  <thead>\n",
       "    <tr style=\"text-align: right;\">\n",
       "      <th></th>\n",
       "      <th>Date</th>\n",
       "      <th>campaign_platform</th>\n",
       "      <th>subchannel</th>\n",
       "      <th>audience_type</th>\n",
       "      <th>creative_type</th>\n",
       "      <th>creative_name</th>\n",
       "      <th>device</th>\n",
       "      <th>age</th>\n",
       "      <th>spends</th>\n",
       "      <th>impressions</th>\n",
       "      <th>clicks</th>\n",
       "      <th>link_clicks</th>\n",
       "    </tr>\n",
       "  </thead>\n",
       "  <tbody>\n",
       "    <tr>\n",
       "      <th>0</th>\n",
       "      <td>2019-10-16</td>\n",
       "      <td>Google Ads_Search_Keywords</td>\n",
       "      <td>Brand</td>\n",
       "      <td>'-</td>\n",
       "      <td>'-</td>\n",
       "      <td>'-</td>\n",
       "      <td>Desktop</td>\n",
       "      <td>18-24</td>\n",
       "      <td>0</td>\n",
       "      <td>1</td>\n",
       "      <td>0</td>\n",
       "      <td>0.0</td>\n",
       "    </tr>\n",
       "    <tr>\n",
       "      <th>1</th>\n",
       "      <td>2019-10-16</td>\n",
       "      <td>Google Ads_Search_Keywords</td>\n",
       "      <td>Brand</td>\n",
       "      <td>'-</td>\n",
       "      <td>'-</td>\n",
       "      <td>'-</td>\n",
       "      <td>Desktop</td>\n",
       "      <td>25-34</td>\n",
       "      <td>0</td>\n",
       "      <td>1</td>\n",
       "      <td>0</td>\n",
       "      <td>0.0</td>\n",
       "    </tr>\n",
       "    <tr>\n",
       "      <th>2</th>\n",
       "      <td>2019-10-16</td>\n",
       "      <td>Google Ads_Search_Keywords</td>\n",
       "      <td>Brand</td>\n",
       "      <td>'-</td>\n",
       "      <td>'-</td>\n",
       "      <td>'-</td>\n",
       "      <td>Desktop</td>\n",
       "      <td>35-44</td>\n",
       "      <td>0</td>\n",
       "      <td>1</td>\n",
       "      <td>0</td>\n",
       "      <td>0.0</td>\n",
       "    </tr>\n",
       "    <tr>\n",
       "      <th>3</th>\n",
       "      <td>2019-10-16</td>\n",
       "      <td>Google Ads_Search_Keywords</td>\n",
       "      <td>Brand</td>\n",
       "      <td>'-</td>\n",
       "      <td>'-</td>\n",
       "      <td>'-</td>\n",
       "      <td>Desktop</td>\n",
       "      <td>Undetermined</td>\n",
       "      <td>1</td>\n",
       "      <td>1</td>\n",
       "      <td>3</td>\n",
       "      <td>0.0</td>\n",
       "    </tr>\n",
       "    <tr>\n",
       "      <th>4</th>\n",
       "      <td>2019-10-18</td>\n",
       "      <td>Google Ads_Search_Keywords</td>\n",
       "      <td>Brand</td>\n",
       "      <td>'-</td>\n",
       "      <td>'-</td>\n",
       "      <td>'-</td>\n",
       "      <td>Mobile</td>\n",
       "      <td>Undetermined</td>\n",
       "      <td>0</td>\n",
       "      <td>1</td>\n",
       "      <td>0</td>\n",
       "      <td>0.0</td>\n",
       "    </tr>\n",
       "  </tbody>\n",
       "</table>\n",
       "</div>"
      ],
      "text/plain": [
       "        Date           campaign_platform subchannel audience_type  \\\n",
       "0 2019-10-16  Google Ads_Search_Keywords      Brand            '-   \n",
       "1 2019-10-16  Google Ads_Search_Keywords      Brand            '-   \n",
       "2 2019-10-16  Google Ads_Search_Keywords      Brand            '-   \n",
       "3 2019-10-16  Google Ads_Search_Keywords      Brand            '-   \n",
       "4 2019-10-18  Google Ads_Search_Keywords      Brand            '-   \n",
       "\n",
       "  creative_type creative_name   device           age  spends  impressions  \\\n",
       "0            '-            '-  Desktop         18-24       0            1   \n",
       "1            '-            '-  Desktop         25-34       0            1   \n",
       "2            '-            '-  Desktop         35-44       0            1   \n",
       "3            '-            '-  Desktop  Undetermined       1            1   \n",
       "4            '-            '-   Mobile  Undetermined       0            1   \n",
       "\n",
       "   clicks  link_clicks  \n",
       "0       0          0.0  \n",
       "1       0          0.0  \n",
       "2       0          0.0  \n",
       "3       3          0.0  \n",
       "4       0          0.0  "
      ]
     },
     "execution_count": 233,
     "metadata": {},
     "output_type": "execute_result"
    }
   ],
   "source": [
    "marketing_campaigns.head()"
   ]
  },
  {
   "cell_type": "markdown",
   "metadata": {},
   "source": [
    "#### 14. clicks"
   ]
  },
  {
   "cell_type": "code",
   "execution_count": 237,
   "metadata": {},
   "outputs": [
    {
     "data": {
      "text/plain": [
       "count    16834.000000\n",
       "mean        11.977783\n",
       "std         44.796963\n",
       "min          0.000000\n",
       "25%          0.000000\n",
       "50%          2.000000\n",
       "75%          8.000000\n",
       "max       1075.000000\n",
       "Name: clicks, dtype: float64"
      ]
     },
     "execution_count": 237,
     "metadata": {},
     "output_type": "execute_result"
    }
   ],
   "source": [
    "marketing_campaigns.iloc[:, 10].describe()"
   ]
  },
  {
   "cell_type": "code",
   "execution_count": 246,
   "metadata": {},
   "outputs": [
    {
     "data": {
      "text/plain": [
       "<matplotlib.axes._subplots.AxesSubplot at 0x7fce8ea5f6d0>"
      ]
     },
     "execution_count": 246,
     "metadata": {},
     "output_type": "execute_result"
    },
    {
     "data": {
      "image/png": "[encoded data removed]",
      "text/plain": [
       "<Figure size 432x288 with 1 Axes>"
      ]
     },
     "metadata": {},
     "output_type": "display_data"
    }
   ],
   "source": [
    "sb.distplot(marketing_campaigns[(marketing_campaigns['clicks'] > 0) & (marketing_campaigns['clicks'] > 10) ]['clicks'] )"
   ]
  },
  {
   "cell_type": "code",
   "execution_count": 247,
   "metadata": {},
   "outputs": [],
   "source": [
    "def categoritzing_visitors_based_on_clicks(clicks):\n",
    "    if clicks == 0:\n",
    "        return 0\n",
    "    elif clicks > 0 and clicks <= 20:\n",
    "        return 1\n",
    "    elif clicks > 20 and clicks <= 50:\n",
    "        return 2\n",
    "    elif clicks > 50 and clicks <= 200:\n",
    "        return 3\n",
    "    else:\n",
    "        return 4"
   ]
  },
  {
   "cell_type": "code",
   "execution_count": 251,
   "metadata": {},
   "outputs": [],
   "source": [
    "marketing_campaigns.iloc[:, 10] = marketing_campaigns.iloc[:, 10].apply(lambda clicks: categoritzing_visitors_based_on_clicks(clicks))"
   ]
  },
  {
   "cell_type": "code",
   "execution_count": 252,
   "metadata": {},
   "outputs": [
    {
     "data": {
      "text/html": [
       "<div>\n",
       "<style scoped>\n",
       "    .dataframe tbody tr th:only-of-type {\n",
       "        vertical-align: middle;\n",
       "    }\n",
       "\n",
       "    .dataframe tbody tr th {\n",
       "        vertical-align: top;\n",
       "    }\n",
       "\n",
       "    .dataframe thead th {\n",
       "        text-align: right;\n",
       "    }\n",
       "</style>\n",
       "<table border=\"1\" class=\"dataframe\">\n",
       "  <thead>\n",
       "    <tr style=\"text-align: right;\">\n",
       "      <th></th>\n",
       "      <th>Date</th>\n",
       "      <th>campaign_platform</th>\n",
       "      <th>subchannel</th>\n",
       "      <th>audience_type</th>\n",
       "      <th>creative_type</th>\n",
       "      <th>creative_name</th>\n",
       "      <th>device</th>\n",
       "      <th>age</th>\n",
       "      <th>spends</th>\n",
       "      <th>impressions</th>\n",
       "      <th>clicks</th>\n",
       "      <th>link_clicks</th>\n",
       "    </tr>\n",
       "  </thead>\n",
       "  <tbody>\n",
       "    <tr>\n",
       "      <th>0</th>\n",
       "      <td>2019-10-16</td>\n",
       "      <td>Google Ads_Search_Keywords</td>\n",
       "      <td>Brand</td>\n",
       "      <td>'-</td>\n",
       "      <td>'-</td>\n",
       "      <td>'-</td>\n",
       "      <td>Desktop</td>\n",
       "      <td>18-24</td>\n",
       "      <td>0</td>\n",
       "      <td>1</td>\n",
       "      <td>0</td>\n",
       "      <td>0.0</td>\n",
       "    </tr>\n",
       "    <tr>\n",
       "      <th>1</th>\n",
       "      <td>2019-10-16</td>\n",
       "      <td>Google Ads_Search_Keywords</td>\n",
       "      <td>Brand</td>\n",
       "      <td>'-</td>\n",
       "      <td>'-</td>\n",
       "      <td>'-</td>\n",
       "      <td>Desktop</td>\n",
       "      <td>25-34</td>\n",
       "      <td>0</td>\n",
       "      <td>1</td>\n",
       "      <td>0</td>\n",
       "      <td>0.0</td>\n",
       "    </tr>\n",
       "    <tr>\n",
       "      <th>2</th>\n",
       "      <td>2019-10-16</td>\n",
       "      <td>Google Ads_Search_Keywords</td>\n",
       "      <td>Brand</td>\n",
       "      <td>'-</td>\n",
       "      <td>'-</td>\n",
       "      <td>'-</td>\n",
       "      <td>Desktop</td>\n",
       "      <td>35-44</td>\n",
       "      <td>0</td>\n",
       "      <td>1</td>\n",
       "      <td>0</td>\n",
       "      <td>0.0</td>\n",
       "    </tr>\n",
       "    <tr>\n",
       "      <th>3</th>\n",
       "      <td>2019-10-16</td>\n",
       "      <td>Google Ads_Search_Keywords</td>\n",
       "      <td>Brand</td>\n",
       "      <td>'-</td>\n",
       "      <td>'-</td>\n",
       "      <td>'-</td>\n",
       "      <td>Desktop</td>\n",
       "      <td>Undetermined</td>\n",
       "      <td>1</td>\n",
       "      <td>1</td>\n",
       "      <td>1</td>\n",
       "      <td>0.0</td>\n",
       "    </tr>\n",
       "    <tr>\n",
       "      <th>4</th>\n",
       "      <td>2019-10-18</td>\n",
       "      <td>Google Ads_Search_Keywords</td>\n",
       "      <td>Brand</td>\n",
       "      <td>'-</td>\n",
       "      <td>'-</td>\n",
       "      <td>'-</td>\n",
       "      <td>Mobile</td>\n",
       "      <td>Undetermined</td>\n",
       "      <td>0</td>\n",
       "      <td>1</td>\n",
       "      <td>0</td>\n",
       "      <td>0.0</td>\n",
       "    </tr>\n",
       "  </tbody>\n",
       "</table>\n",
       "</div>"
      ],
      "text/plain": [
       "        Date           campaign_platform subchannel audience_type  \\\n",
       "0 2019-10-16  Google Ads_Search_Keywords      Brand            '-   \n",
       "1 2019-10-16  Google Ads_Search_Keywords      Brand            '-   \n",
       "2 2019-10-16  Google Ads_Search_Keywords      Brand            '-   \n",
       "3 2019-10-16  Google Ads_Search_Keywords      Brand            '-   \n",
       "4 2019-10-18  Google Ads_Search_Keywords      Brand            '-   \n",
       "\n",
       "  creative_type creative_name   device           age  spends  impressions  \\\n",
       "0            '-            '-  Desktop         18-24       0            1   \n",
       "1            '-            '-  Desktop         25-34       0            1   \n",
       "2            '-            '-  Desktop         35-44       0            1   \n",
       "3            '-            '-  Desktop  Undetermined       1            1   \n",
       "4            '-            '-   Mobile  Undetermined       0            1   \n",
       "\n",
       "   clicks  link_clicks  \n",
       "0       0          0.0  \n",
       "1       0          0.0  \n",
       "2       0          0.0  \n",
       "3       1          0.0  \n",
       "4       0          0.0  "
      ]
     },
     "execution_count": 252,
     "metadata": {},
     "output_type": "execute_result"
    }
   ],
   "source": [
    "marketing_campaigns.head()"
   ]
  },
  {
   "cell_type": "code",
   "execution_count": 254,
   "metadata": {},
   "outputs": [
    {
     "data": {
      "text/plain": [
       "<matplotlib.axes._subplots.AxesSubplot at 0x7fce8e8c0910>"
      ]
     },
     "execution_count": 254,
     "metadata": {},
     "output_type": "execute_result"
    },
    {
     "data": {
      "image/png": "[encoded data removed]",
      "text/plain": [
       "<Figure size 432x288 with 1 Axes>"
      ]
     },
     "metadata": {},
     "output_type": "display_data"
    }
   ],
   "source": [
    "sb.countplot(x = \"clicks\", data = marketing_campaigns)"
   ]
  },
  {
   "cell_type": "markdown",
   "metadata": {},
   "source": [
    "#### 15 . link_clicks"
   ]
  },
  {
   "cell_type": "code",
   "execution_count": 256,
   "metadata": {},
   "outputs": [
    {
     "data": {
      "text/plain": [
       "0.0      15101\n",
       "1.0        233\n",
       "2.0        104\n",
       "3.0         87\n",
       "4.0         64\n",
       "         ...  \n",
       "110.0        1\n",
       "116.0        1\n",
       "88.0         1\n",
       "274.0        1\n",
       "303.0        1\n",
       "Name: link_clicks, Length: 160, dtype: int64"
      ]
     },
     "execution_count": 256,
     "metadata": {},
     "output_type": "execute_result"
    }
   ],
   "source": [
    "marketing_campaigns.iloc[:, 11].value_counts()"
   ]
  },
  {
   "cell_type": "code",
   "execution_count": 259,
   "metadata": {},
   "outputs": [],
   "source": [
    "marketing_campaigns.iloc[:, 11] = marketing_campaigns.iloc[:, 11].fillna(1.0)"
   ]
  },
  {
   "cell_type": "code",
   "execution_count": 260,
   "metadata": {},
   "outputs": [
    {
     "data": {
      "text/html": [
       "<div>\n",
       "<style scoped>\n",
       "    .dataframe tbody tr th:only-of-type {\n",
       "        vertical-align: middle;\n",
       "    }\n",
       "\n",
       "    .dataframe tbody tr th {\n",
       "        vertical-align: top;\n",
       "    }\n",
       "\n",
       "    .dataframe thead th {\n",
       "        text-align: right;\n",
       "    }\n",
       "</style>\n",
       "<table border=\"1\" class=\"dataframe\">\n",
       "  <thead>\n",
       "    <tr style=\"text-align: right;\">\n",
       "      <th></th>\n",
       "      <th>Date</th>\n",
       "      <th>campaign_platform</th>\n",
       "      <th>subchannel</th>\n",
       "      <th>audience_type</th>\n",
       "      <th>creative_type</th>\n",
       "      <th>creative_name</th>\n",
       "      <th>device</th>\n",
       "      <th>age</th>\n",
       "      <th>spends</th>\n",
       "      <th>impressions</th>\n",
       "      <th>clicks</th>\n",
       "      <th>link_clicks</th>\n",
       "    </tr>\n",
       "  </thead>\n",
       "  <tbody>\n",
       "    <tr>\n",
       "      <th>0</th>\n",
       "      <td>2019-10-16</td>\n",
       "      <td>Google Ads_Search_Keywords</td>\n",
       "      <td>Brand</td>\n",
       "      <td>'-</td>\n",
       "      <td>'-</td>\n",
       "      <td>'-</td>\n",
       "      <td>Desktop</td>\n",
       "      <td>18-24</td>\n",
       "      <td>0</td>\n",
       "      <td>1</td>\n",
       "      <td>0</td>\n",
       "      <td>0.0</td>\n",
       "    </tr>\n",
       "    <tr>\n",
       "      <th>1</th>\n",
       "      <td>2019-10-16</td>\n",
       "      <td>Google Ads_Search_Keywords</td>\n",
       "      <td>Brand</td>\n",
       "      <td>'-</td>\n",
       "      <td>'-</td>\n",
       "      <td>'-</td>\n",
       "      <td>Desktop</td>\n",
       "      <td>25-34</td>\n",
       "      <td>0</td>\n",
       "      <td>1</td>\n",
       "      <td>0</td>\n",
       "      <td>0.0</td>\n",
       "    </tr>\n",
       "    <tr>\n",
       "      <th>2</th>\n",
       "      <td>2019-10-16</td>\n",
       "      <td>Google Ads_Search_Keywords</td>\n",
       "      <td>Brand</td>\n",
       "      <td>'-</td>\n",
       "      <td>'-</td>\n",
       "      <td>'-</td>\n",
       "      <td>Desktop</td>\n",
       "      <td>35-44</td>\n",
       "      <td>0</td>\n",
       "      <td>1</td>\n",
       "      <td>0</td>\n",
       "      <td>0.0</td>\n",
       "    </tr>\n",
       "    <tr>\n",
       "      <th>3</th>\n",
       "      <td>2019-10-16</td>\n",
       "      <td>Google Ads_Search_Keywords</td>\n",
       "      <td>Brand</td>\n",
       "      <td>'-</td>\n",
       "      <td>'-</td>\n",
       "      <td>'-</td>\n",
       "      <td>Desktop</td>\n",
       "      <td>Undetermined</td>\n",
       "      <td>1</td>\n",
       "      <td>1</td>\n",
       "      <td>1</td>\n",
       "      <td>0.0</td>\n",
       "    </tr>\n",
       "    <tr>\n",
       "      <th>4</th>\n",
       "      <td>2019-10-18</td>\n",
       "      <td>Google Ads_Search_Keywords</td>\n",
       "      <td>Brand</td>\n",
       "      <td>'-</td>\n",
       "      <td>'-</td>\n",
       "      <td>'-</td>\n",
       "      <td>Mobile</td>\n",
       "      <td>Undetermined</td>\n",
       "      <td>0</td>\n",
       "      <td>1</td>\n",
       "      <td>0</td>\n",
       "      <td>0.0</td>\n",
       "    </tr>\n",
       "  </tbody>\n",
       "</table>\n",
       "</div>"
      ],
      "text/plain": [
       "        Date           campaign_platform subchannel audience_type  \\\n",
       "0 2019-10-16  Google Ads_Search_Keywords      Brand            '-   \n",
       "1 2019-10-16  Google Ads_Search_Keywords      Brand            '-   \n",
       "2 2019-10-16  Google Ads_Search_Keywords      Brand            '-   \n",
       "3 2019-10-16  Google Ads_Search_Keywords      Brand            '-   \n",
       "4 2019-10-18  Google Ads_Search_Keywords      Brand            '-   \n",
       "\n",
       "  creative_type creative_name   device           age  spends  impressions  \\\n",
       "0            '-            '-  Desktop         18-24       0            1   \n",
       "1            '-            '-  Desktop         25-34       0            1   \n",
       "2            '-            '-  Desktop         35-44       0            1   \n",
       "3            '-            '-  Desktop  Undetermined       1            1   \n",
       "4            '-            '-   Mobile  Undetermined       0            1   \n",
       "\n",
       "   clicks  link_clicks  \n",
       "0       0          0.0  \n",
       "1       0          0.0  \n",
       "2       0          0.0  \n",
       "3       1          0.0  \n",
       "4       0          0.0  "
      ]
     },
     "execution_count": 260,
     "metadata": {},
     "output_type": "execute_result"
    }
   ],
   "source": [
    "marketing_campaigns.head()"
   ]
  },
  {
   "cell_type": "markdown",
   "metadata": {},
   "source": [
    "<br><br><br><br><br><br><br>"
   ]
  },
  {
   "cell_type": "markdown",
   "metadata": {},
   "source": [
    "# Final Summary :\n",
    "\n",
    "**Totally 16,834 records available.**\n",
    "\n",
    "## Columns and its Dataypes\n",
    "```\n",
    "Date                    datetime64[ns]\n",
    "product                         object\n",
    "phase                           object\n",
    "campaign_platform               object\n",
    "campaign_type                   object\n",
    "communication_medium            object\n",
    "subchannel                      object\n",
    "audience_type                   object\n",
    "creative_type                   object\n",
    "creative_name                   object\n",
    "device                          object\n",
    "age                             object\n",
    "spends                         float64\n",
    "impressions                      int64\n",
    "clicks                           int64\n",
    "link_clicks                    float64\n",
    "dtype: object\n",
    "```\n",
    "## Null Values\n",
    "```\n",
    "Date                      0\n",
    "product                   0\n",
    "phase                     0\n",
    "campaign_platform         0\n",
    "campaign_type             0\n",
    "communication_medium      0\n",
    "subchannel                0\n",
    "audience_type             0\n",
    "creative_type             0\n",
    "creative_name             0\n",
    "device                    0\n",
    "age                       0\n",
    "spends                    0\n",
    "impressions               0\n",
    "clicks                    0\n",
    "link_clicks             546\n",
    "dtype: int64\n",
    "```\n",
    "\n",
    "\n",
    "### Date Column\n",
    "- Start Date is 16th October 2019.\n",
    "- End Date is 7th July, 2020.\n",
    "- There 257 unique Dates present in the data.\n",
    "\n",
    "### Product Column\n",
    "- The whole marketing campaign data is revolving around a single product\n",
    "\n",
    "### Phase column\n",
    "- The whole marketing campaign data is representing about **Performance** phase of the product.\n",
    "\n",
    "### campaign_platform column\n",
    "- Getting more attraction from Google Ads.\n",
    "- Nearly 9 times more than Facebook Ads.\n",
    "- Percentage of Attraction from Google Ads : 89.71%\n",
    "- Percentage of Attraction from Facebook Ads : 10.29%\n",
    "\n",
    "### Campaign_type column\n",
    "- Percentage of Attraction from Google Ads : 89.71%\n",
    "- Percentage of Attraction from Facebook Ads : 10.29%\n",
    "- Both campaign_platform and campaign_type representing similar data.\n",
    "\tCampaign Platform   --->   Campaign Type\n",
    "\tGoogle Ads          --->   Search\n",
    "\tFacebook Ads        --->   Conversions\n",
    "\n",
    "### Communication_Medium column\n",
    "- Percentage of Attraction from Google Ads : 89.71%\n",
    "- Percentage of Attraction from Facebook Ads : 10.29%\n",
    "- Both campaign_platform and campaign_type representing similar data.\n",
    "\tCampaign Platform   --->   Campaign Type\n",
    "\tGoogle Ads          --->   Search Keywords\n",
    "\tFacebook Ads        --->   Creative\n",
    "\n",
    "### Subcannel (Google Ads)\n",
    "- For Facebook Ads, There are no subchannels.\n",
    "- For Google Ads, there are 3 Subchannels :- \n",
    "\tBrand           7853\n",
    "\tGeneric         4544\n",
    "\tCompetitor      2704\n",
    "\n",
    "- Google Ads - Subchannel - Brand      ==> 52.00\n",
    "- Google Ads - Subchannel - Generic    ==> 30.09\n",
    "- Google Ads - Subchannel - Competitor ==> 17.91\n",
    "\n",
    "### Audience Type (Facebook Ads)\n",
    "- There are no Audience Type related to the Google Ads.\n",
    "- There are three kinds of Audience Type related to the Facebook Ads.\n",
    "\tAudience 1      813\n",
    "\tAudience 2      738\n",
    "\tAudience 3      182\n",
    "\n",
    "### Creative (Facebook Ads)\n",
    "- \tThere are 2 creative types for facebook ads:\n",
    "\tImage       1130\n",
    "\tCarousal     603\n",
    "\n",
    "- Facebook Ads - Creative Type - Image    : 65.20%\n",
    "- Facebook Ads - Creative Type - Carousal : 34.80%\n",
    "\n",
    "### Creative name\n",
    "- This column is related to Facebook Ads of Creative Type - Image\n",
    "\tClick           644\n",
    "\t**Carousal**    603\n",
    "\tGirl            486\n",
    "\n",
    "- Facebook Ads - Creative Type - Image - Click    : 37.16%\n",
    "- Facebook Ads - Creative Type - Image - Girl     : 28.04%\n",
    "- Facebook Ads - Creative Type - Carousal         : 34.80%\n",
    "\n",
    "### Device\n",
    "- Its mostly related Google Ads.\n",
    "- There is no appropriate data on Facebook Ads.\n",
    "\n",
    "- Mobile     7357\n",
    "- Desktop    6318\n",
    "- device     1733\n",
    "- Tablet     1426\n",
    "- Name: device\n",
    "\n",
    "- Google Ads - device - Mobile    : 48.72%\n",
    "- Google Ads - device - Desktop   : 41.84%\n",
    "- Google Ads - device - Tablet    : 9.44%\n",
    "\n",
    "### Age\n",
    "- More or Less All age groups are contributing same.\n",
    "\n",
    "### Spend Time\n",
    "- The Maximum Time spended on the website is 9221.96 seconds (153 mins or 2.5 hrs)\n",
    "- Most of the people spended less than 2 mins (More than 50%)\n",
    "\n",
    "### Link Clicks\n",
    "- In Google Ads, there are no link clicks.\n"
   ]
  },
  {
   "cell_type": "code",
   "execution_count": 262,
   "metadata": {},
   "outputs": [
    {
     "data": {
      "text/html": [
       "<div>\n",
       "<style scoped>\n",
       "    .dataframe tbody tr th:only-of-type {\n",
       "        vertical-align: middle;\n",
       "    }\n",
       "\n",
       "    .dataframe tbody tr th {\n",
       "        vertical-align: top;\n",
       "    }\n",
       "\n",
       "    .dataframe thead th {\n",
       "        text-align: right;\n",
       "    }\n",
       "</style>\n",
       "<table border=\"1\" class=\"dataframe\">\n",
       "  <thead>\n",
       "    <tr style=\"text-align: right;\">\n",
       "      <th></th>\n",
       "      <th>Date</th>\n",
       "      <th>campaign_platform</th>\n",
       "      <th>subchannel</th>\n",
       "      <th>audience_type</th>\n",
       "      <th>creative_type</th>\n",
       "      <th>creative_name</th>\n",
       "      <th>device</th>\n",
       "      <th>age</th>\n",
       "      <th>spends</th>\n",
       "      <th>impressions</th>\n",
       "      <th>clicks</th>\n",
       "      <th>link_clicks</th>\n",
       "    </tr>\n",
       "  </thead>\n",
       "  <tbody>\n",
       "    <tr>\n",
       "      <th>count</th>\n",
       "      <td>16834</td>\n",
       "      <td>16834</td>\n",
       "      <td>16834</td>\n",
       "      <td>16834</td>\n",
       "      <td>16834</td>\n",
       "      <td>16834</td>\n",
       "      <td>16834</td>\n",
       "      <td>16834</td>\n",
       "      <td>16834.000000</td>\n",
       "      <td>16834.000000</td>\n",
       "      <td>16834.000000</td>\n",
       "      <td>16834.000000</td>\n",
       "    </tr>\n",
       "    <tr>\n",
       "      <th>unique</th>\n",
       "      <td>257</td>\n",
       "      <td>2</td>\n",
       "      <td>4</td>\n",
       "      <td>4</td>\n",
       "      <td>3</td>\n",
       "      <td>4</td>\n",
       "      <td>4</td>\n",
       "      <td>7</td>\n",
       "      <td>NaN</td>\n",
       "      <td>NaN</td>\n",
       "      <td>NaN</td>\n",
       "      <td>NaN</td>\n",
       "    </tr>\n",
       "    <tr>\n",
       "      <th>top</th>\n",
       "      <td>2020-01-02 00:00:00</td>\n",
       "      <td>Google Ads_Search_Keywords</td>\n",
       "      <td>Brand</td>\n",
       "      <td>'-</td>\n",
       "      <td>'-</td>\n",
       "      <td>'-</td>\n",
       "      <td>Mobile</td>\n",
       "      <td>25-34</td>\n",
       "      <td>NaN</td>\n",
       "      <td>NaN</td>\n",
       "      <td>NaN</td>\n",
       "      <td>NaN</td>\n",
       "    </tr>\n",
       "    <tr>\n",
       "      <th>freq</th>\n",
       "      <td>169</td>\n",
       "      <td>15101</td>\n",
       "      <td>7853</td>\n",
       "      <td>15101</td>\n",
       "      <td>15101</td>\n",
       "      <td>15101</td>\n",
       "      <td>7357</td>\n",
       "      <td>3097</td>\n",
       "      <td>NaN</td>\n",
       "      <td>NaN</td>\n",
       "      <td>NaN</td>\n",
       "      <td>NaN</td>\n",
       "    </tr>\n",
       "    <tr>\n",
       "      <th>first</th>\n",
       "      <td>2019-10-16 00:00:00</td>\n",
       "      <td>NaN</td>\n",
       "      <td>NaN</td>\n",
       "      <td>NaN</td>\n",
       "      <td>NaN</td>\n",
       "      <td>NaN</td>\n",
       "      <td>NaN</td>\n",
       "      <td>NaN</td>\n",
       "      <td>NaN</td>\n",
       "      <td>NaN</td>\n",
       "      <td>NaN</td>\n",
       "      <td>NaN</td>\n",
       "    </tr>\n",
       "    <tr>\n",
       "      <th>last</th>\n",
       "      <td>2020-07-07 00:00:00</td>\n",
       "      <td>NaN</td>\n",
       "      <td>NaN</td>\n",
       "      <td>NaN</td>\n",
       "      <td>NaN</td>\n",
       "      <td>NaN</td>\n",
       "      <td>NaN</td>\n",
       "      <td>NaN</td>\n",
       "      <td>NaN</td>\n",
       "      <td>NaN</td>\n",
       "      <td>NaN</td>\n",
       "      <td>NaN</td>\n",
       "    </tr>\n",
       "    <tr>\n",
       "      <th>mean</th>\n",
       "      <td>NaN</td>\n",
       "      <td>NaN</td>\n",
       "      <td>NaN</td>\n",
       "      <td>NaN</td>\n",
       "      <td>NaN</td>\n",
       "      <td>NaN</td>\n",
       "      <td>NaN</td>\n",
       "      <td>NaN</td>\n",
       "      <td>1.181062</td>\n",
       "      <td>1.808067</td>\n",
       "      <td>0.915944</td>\n",
       "      <td>2.132411</td>\n",
       "    </tr>\n",
       "    <tr>\n",
       "      <th>std</th>\n",
       "      <td>NaN</td>\n",
       "      <td>NaN</td>\n",
       "      <td>NaN</td>\n",
       "      <td>NaN</td>\n",
       "      <td>NaN</td>\n",
       "      <td>NaN</td>\n",
       "      <td>NaN</td>\n",
       "      <td>NaN</td>\n",
       "      <td>1.094700</td>\n",
       "      <td>1.076497</td>\n",
       "      <td>0.752353</td>\n",
       "      <td>18.355192</td>\n",
       "    </tr>\n",
       "    <tr>\n",
       "      <th>min</th>\n",
       "      <td>NaN</td>\n",
       "      <td>NaN</td>\n",
       "      <td>NaN</td>\n",
       "      <td>NaN</td>\n",
       "      <td>NaN</td>\n",
       "      <td>NaN</td>\n",
       "      <td>NaN</td>\n",
       "      <td>NaN</td>\n",
       "      <td>0.000000</td>\n",
       "      <td>0.000000</td>\n",
       "      <td>0.000000</td>\n",
       "      <td>0.000000</td>\n",
       "    </tr>\n",
       "    <tr>\n",
       "      <th>25%</th>\n",
       "      <td>NaN</td>\n",
       "      <td>NaN</td>\n",
       "      <td>NaN</td>\n",
       "      <td>NaN</td>\n",
       "      <td>NaN</td>\n",
       "      <td>NaN</td>\n",
       "      <td>NaN</td>\n",
       "      <td>NaN</td>\n",
       "      <td>1.000000</td>\n",
       "      <td>1.000000</td>\n",
       "      <td>0.000000</td>\n",
       "      <td>0.000000</td>\n",
       "    </tr>\n",
       "    <tr>\n",
       "      <th>50%</th>\n",
       "      <td>NaN</td>\n",
       "      <td>NaN</td>\n",
       "      <td>NaN</td>\n",
       "      <td>NaN</td>\n",
       "      <td>NaN</td>\n",
       "      <td>NaN</td>\n",
       "      <td>NaN</td>\n",
       "      <td>NaN</td>\n",
       "      <td>1.000000</td>\n",
       "      <td>1.000000</td>\n",
       "      <td>1.000000</td>\n",
       "      <td>0.000000</td>\n",
       "    </tr>\n",
       "    <tr>\n",
       "      <th>75%</th>\n",
       "      <td>NaN</td>\n",
       "      <td>NaN</td>\n",
       "      <td>NaN</td>\n",
       "      <td>NaN</td>\n",
       "      <td>NaN</td>\n",
       "      <td>NaN</td>\n",
       "      <td>NaN</td>\n",
       "      <td>NaN</td>\n",
       "      <td>1.000000</td>\n",
       "      <td>3.000000</td>\n",
       "      <td>1.000000</td>\n",
       "      <td>0.000000</td>\n",
       "    </tr>\n",
       "    <tr>\n",
       "      <th>max</th>\n",
       "      <td>NaN</td>\n",
       "      <td>NaN</td>\n",
       "      <td>NaN</td>\n",
       "      <td>NaN</td>\n",
       "      <td>NaN</td>\n",
       "      <td>NaN</td>\n",
       "      <td>NaN</td>\n",
       "      <td>NaN</td>\n",
       "      <td>7.000000</td>\n",
       "      <td>4.000000</td>\n",
       "      <td>4.000000</td>\n",
       "      <td>450.000000</td>\n",
       "    </tr>\n",
       "  </tbody>\n",
       "</table>\n",
       "</div>"
      ],
      "text/plain": [
       "                       Date           campaign_platform subchannel  \\\n",
       "count                 16834                       16834      16834   \n",
       "unique                  257                           2          4   \n",
       "top     2020-01-02 00:00:00  Google Ads_Search_Keywords      Brand   \n",
       "freq                    169                       15101       7853   \n",
       "first   2019-10-16 00:00:00                         NaN        NaN   \n",
       "last    2020-07-07 00:00:00                         NaN        NaN   \n",
       "mean                    NaN                         NaN        NaN   \n",
       "std                     NaN                         NaN        NaN   \n",
       "min                     NaN                         NaN        NaN   \n",
       "25%                     NaN                         NaN        NaN   \n",
       "50%                     NaN                         NaN        NaN   \n",
       "75%                     NaN                         NaN        NaN   \n",
       "max                     NaN                         NaN        NaN   \n",
       "\n",
       "       audience_type creative_type creative_name  device    age        spends  \\\n",
       "count          16834         16834         16834   16834  16834  16834.000000   \n",
       "unique             4             3             4       4      7           NaN   \n",
       "top               '-            '-            '-  Mobile  25-34           NaN   \n",
       "freq           15101         15101         15101    7357   3097           NaN   \n",
       "first            NaN           NaN           NaN     NaN    NaN           NaN   \n",
       "last             NaN           NaN           NaN     NaN    NaN           NaN   \n",
       "mean             NaN           NaN           NaN     NaN    NaN      1.181062   \n",
       "std              NaN           NaN           NaN     NaN    NaN      1.094700   \n",
       "min              NaN           NaN           NaN     NaN    NaN      0.000000   \n",
       "25%              NaN           NaN           NaN     NaN    NaN      1.000000   \n",
       "50%              NaN           NaN           NaN     NaN    NaN      1.000000   \n",
       "75%              NaN           NaN           NaN     NaN    NaN      1.000000   \n",
       "max              NaN           NaN           NaN     NaN    NaN      7.000000   \n",
       "\n",
       "         impressions        clicks   link_clicks  \n",
       "count   16834.000000  16834.000000  16834.000000  \n",
       "unique           NaN           NaN           NaN  \n",
       "top              NaN           NaN           NaN  \n",
       "freq             NaN           NaN           NaN  \n",
       "first            NaN           NaN           NaN  \n",
       "last             NaN           NaN           NaN  \n",
       "mean        1.808067      0.915944      2.132411  \n",
       "std         1.076497      0.752353     18.355192  \n",
       "min         0.000000      0.000000      0.000000  \n",
       "25%         1.000000      0.000000      0.000000  \n",
       "50%         1.000000      1.000000      0.000000  \n",
       "75%         3.000000      1.000000      0.000000  \n",
       "max         4.000000      4.000000    450.000000  "
      ]
     },
     "execution_count": 262,
     "metadata": {},
     "output_type": "execute_result"
    }
   ],
   "source": [
    "marketing_campaigns.describe(include=\"all\")"
   ]
  },
  {
   "cell_type": "code",
   "execution_count": null,
   "metadata": {},
   "outputs": [],
   "source": []
  }
 ],
 "metadata": {
  "kernelspec": {
   "display_name": "Python 3",
   "language": "python",
   "name": "python3"
  },
  "language_info": {
   "codemirror_mode": {
    "name": "ipython",
    "version": 3
   },
   "file_extension": ".py",
   "mimetype": "text/x-python",
   "name": "python",
   "nbconvert_exporter": "python",
   "pygments_lexer": "ipython3",
   "version": "3.7.7"
  }
 },
 "nbformat": 4,
 "nbformat_minor": 4
}
